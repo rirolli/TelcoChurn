{
  "nbformat": 4,
  "nbformat_minor": 0,
  "metadata": {
    "colab": {
      "name": "TelcoChurn.ipynb",
      "provenance": [],
      "collapsed_sections": []
    },
    "kernelspec": {
      "name": "python3",
      "display_name": "Python 3"
    },
    "accelerator": "TPU"
  },
  "cells": [
    {
      "cell_type": "markdown",
      "metadata": {
        "id": "bve2y8T97yg6",
        "colab_type": "text"
      },
      "source": [
        "#Telco Churn"
      ]
    },
    {
      "cell_type": "markdown",
      "metadata": {
        "id": "A2VoYewQ72O8",
        "colab_type": "text"
      },
      "source": [
        "##Librerie"
      ]
    },
    {
      "cell_type": "code",
      "metadata": {
        "id": "dVR3okzg7npj",
        "colab_type": "code",
        "colab": {
          "base_uri": "https://localhost:8080/",
          "height": 102
        },
        "outputId": "b078ae6d-1eba-4078-82b1-710eadf4d630"
      },
      "source": [
        "import tensorflow as tf\n",
        "import pandas as pd\n",
        "import numpy as np\n",
        "import matplotlib.pyplot as plt\n",
        "import sklearn as sl\n",
        "import seaborn as sns\n",
        "\n",
        "from tensorflow import keras\n",
        "from sklearn.model_selection import train_test_split\n",
        "from sklearn.metrics import confusion_matrix, accuracy_score\n",
        "\n",
        "print(tf.__version__)\n",
        "print(pd.__version__)\n",
        "print(np.__version__)\n",
        "print(sl.__version__)\n",
        "print(sns.__version__)"
      ],
      "execution_count": 406,
      "outputs": [
        {
          "output_type": "stream",
          "text": [
            "2.2.0\n",
            "1.0.4\n",
            "1.18.5\n",
            "0.22.2.post1\n",
            "0.10.1\n"
          ],
          "name": "stdout"
        }
      ]
    },
    {
      "cell_type": "markdown",
      "metadata": {
        "id": "3zKkbpk-88eq",
        "colab_type": "text"
      },
      "source": [
        "## Dataset"
      ]
    },
    {
      "cell_type": "code",
      "metadata": {
        "id": "J6MvCisI8-nS",
        "colab_type": "code",
        "colab": {}
      },
      "source": [
        "# Importazione del dataset in una tabella pandas\n",
        "url = 'https://raw.githubusercontent.com/rirolli/TelcoChurn/master/Telco-Customer-Churn-train.csv'\n",
        "\n",
        "telco_data = pd.read_csv(url, na_values=np.nan)"
      ],
      "execution_count": 407,
      "outputs": []
    },
    {
      "cell_type": "code",
      "metadata": {
        "id": "mcFhDQoP9SBK",
        "colab_type": "code",
        "colab": {
          "base_uri": "https://localhost:8080/",
          "height": 549
        },
        "outputId": "b8e16783-fe15-4192-d041-eb753d00101f"
      },
      "source": [
        "# Stampa delle prime 10 righe del dataset\n",
        "telco_data.head(10)"
      ],
      "execution_count": 408,
      "outputs": [
        {
          "output_type": "execute_result",
          "data": {
            "text/html": [
              "<div>\n",
              "<style scoped>\n",
              "    .dataframe tbody tr th:only-of-type {\n",
              "        vertical-align: middle;\n",
              "    }\n",
              "\n",
              "    .dataframe tbody tr th {\n",
              "        vertical-align: top;\n",
              "    }\n",
              "\n",
              "    .dataframe thead th {\n",
              "        text-align: right;\n",
              "    }\n",
              "</style>\n",
              "<table border=\"1\" class=\"dataframe\">\n",
              "  <thead>\n",
              "    <tr style=\"text-align: right;\">\n",
              "      <th></th>\n",
              "      <th>Churn</th>\n",
              "      <th>customerID</th>\n",
              "      <th>gender</th>\n",
              "      <th>SeniorCitizen</th>\n",
              "      <th>Partner</th>\n",
              "      <th>Dependents</th>\n",
              "      <th>tenure</th>\n",
              "      <th>PhoneService</th>\n",
              "      <th>MultipleLines</th>\n",
              "      <th>InternetService</th>\n",
              "      <th>OnlineSecurity</th>\n",
              "      <th>OnlineBackup</th>\n",
              "      <th>DeviceProtection</th>\n",
              "      <th>TechSupport</th>\n",
              "      <th>StreamingTV</th>\n",
              "      <th>StreamingMovies</th>\n",
              "      <th>Contract</th>\n",
              "      <th>PaperlessBilling</th>\n",
              "      <th>PaymentMethod</th>\n",
              "      <th>MonthlyCharges</th>\n",
              "      <th>TotalCharges</th>\n",
              "    </tr>\n",
              "  </thead>\n",
              "  <tbody>\n",
              "    <tr>\n",
              "      <th>0</th>\n",
              "      <td>No</td>\n",
              "      <td>4223-BKEOR</td>\n",
              "      <td>Female</td>\n",
              "      <td>0</td>\n",
              "      <td>No</td>\n",
              "      <td>Yes</td>\n",
              "      <td>21</td>\n",
              "      <td>Yes</td>\n",
              "      <td>No</td>\n",
              "      <td>DSL</td>\n",
              "      <td>Yes</td>\n",
              "      <td>No</td>\n",
              "      <td>Yes</td>\n",
              "      <td>No</td>\n",
              "      <td>No</td>\n",
              "      <td>Yes</td>\n",
              "      <td>One year</td>\n",
              "      <td>No</td>\n",
              "      <td>Mailed check</td>\n",
              "      <td>64.85</td>\n",
              "      <td>1336.8</td>\n",
              "    </tr>\n",
              "    <tr>\n",
              "      <th>1</th>\n",
              "      <td>No</td>\n",
              "      <td>6035-RIIOM</td>\n",
              "      <td>Female</td>\n",
              "      <td>0</td>\n",
              "      <td>No</td>\n",
              "      <td>No</td>\n",
              "      <td>54</td>\n",
              "      <td>Yes</td>\n",
              "      <td>Yes</td>\n",
              "      <td>Fiber optic</td>\n",
              "      <td>No</td>\n",
              "      <td>Yes</td>\n",
              "      <td>No</td>\n",
              "      <td>No</td>\n",
              "      <td>Yes</td>\n",
              "      <td>Yes</td>\n",
              "      <td>Two year</td>\n",
              "      <td>Yes</td>\n",
              "      <td>Bank transfer (automatic)</td>\n",
              "      <td>97.20</td>\n",
              "      <td>5129.45</td>\n",
              "    </tr>\n",
              "    <tr>\n",
              "      <th>2</th>\n",
              "      <td>Yes</td>\n",
              "      <td>3797-VTIDR</td>\n",
              "      <td>Male</td>\n",
              "      <td>0</td>\n",
              "      <td>Yes</td>\n",
              "      <td>No</td>\n",
              "      <td>1</td>\n",
              "      <td>No</td>\n",
              "      <td>No phone service</td>\n",
              "      <td>DSL</td>\n",
              "      <td>No</td>\n",
              "      <td>No</td>\n",
              "      <td>No</td>\n",
              "      <td>No</td>\n",
              "      <td>No</td>\n",
              "      <td>No</td>\n",
              "      <td>Month-to-month</td>\n",
              "      <td>Yes</td>\n",
              "      <td>Electronic check</td>\n",
              "      <td>23.45</td>\n",
              "      <td>23.45</td>\n",
              "    </tr>\n",
              "    <tr>\n",
              "      <th>3</th>\n",
              "      <td>Yes</td>\n",
              "      <td>2568-BRGYX</td>\n",
              "      <td>Male</td>\n",
              "      <td>0</td>\n",
              "      <td>No</td>\n",
              "      <td>No</td>\n",
              "      <td>4</td>\n",
              "      <td>Yes</td>\n",
              "      <td>No</td>\n",
              "      <td>Fiber optic</td>\n",
              "      <td>No</td>\n",
              "      <td>No</td>\n",
              "      <td>No</td>\n",
              "      <td>No</td>\n",
              "      <td>No</td>\n",
              "      <td>No</td>\n",
              "      <td>Month-to-month</td>\n",
              "      <td>Yes</td>\n",
              "      <td>Electronic check</td>\n",
              "      <td>70.20</td>\n",
              "      <td>237.95</td>\n",
              "    </tr>\n",
              "    <tr>\n",
              "      <th>4</th>\n",
              "      <td>No</td>\n",
              "      <td>2775-SEFEE</td>\n",
              "      <td>Male</td>\n",
              "      <td>0</td>\n",
              "      <td>No</td>\n",
              "      <td>Yes</td>\n",
              "      <td>0</td>\n",
              "      <td>Yes</td>\n",
              "      <td>Yes</td>\n",
              "      <td>DSL</td>\n",
              "      <td>Yes</td>\n",
              "      <td>Yes</td>\n",
              "      <td>No</td>\n",
              "      <td>Yes</td>\n",
              "      <td>No</td>\n",
              "      <td>No</td>\n",
              "      <td>Two year</td>\n",
              "      <td>Yes</td>\n",
              "      <td>Bank transfer (automatic)</td>\n",
              "      <td>61.90</td>\n",
              "      <td></td>\n",
              "    </tr>\n",
              "    <tr>\n",
              "      <th>5</th>\n",
              "      <td>No</td>\n",
              "      <td>4291-SHSBH</td>\n",
              "      <td>Male</td>\n",
              "      <td>0</td>\n",
              "      <td>No</td>\n",
              "      <td>No</td>\n",
              "      <td>7</td>\n",
              "      <td>Yes</td>\n",
              "      <td>No</td>\n",
              "      <td>Fiber optic</td>\n",
              "      <td>No</td>\n",
              "      <td>No</td>\n",
              "      <td>No</td>\n",
              "      <td>No</td>\n",
              "      <td>No</td>\n",
              "      <td>No</td>\n",
              "      <td>Month-to-month</td>\n",
              "      <td>Yes</td>\n",
              "      <td>Electronic check</td>\n",
              "      <td>69.55</td>\n",
              "      <td>521.35</td>\n",
              "    </tr>\n",
              "    <tr>\n",
              "      <th>6</th>\n",
              "      <td>No</td>\n",
              "      <td>4635-EJYPD</td>\n",
              "      <td>Male</td>\n",
              "      <td>0</td>\n",
              "      <td>Yes</td>\n",
              "      <td>Yes</td>\n",
              "      <td>32</td>\n",
              "      <td>Yes</td>\n",
              "      <td>No</td>\n",
              "      <td>No</td>\n",
              "      <td>No internet service</td>\n",
              "      <td>No internet service</td>\n",
              "      <td>No internet service</td>\n",
              "      <td>No internet service</td>\n",
              "      <td>No internet service</td>\n",
              "      <td>No internet service</td>\n",
              "      <td>Two year</td>\n",
              "      <td>No</td>\n",
              "      <td>Mailed check</td>\n",
              "      <td>18.95</td>\n",
              "      <td>613.95</td>\n",
              "    </tr>\n",
              "    <tr>\n",
              "      <th>7</th>\n",
              "      <td>No</td>\n",
              "      <td>2607-DHDAK</td>\n",
              "      <td>Male</td>\n",
              "      <td>0</td>\n",
              "      <td>Yes</td>\n",
              "      <td>Yes</td>\n",
              "      <td>72</td>\n",
              "      <td>Yes</td>\n",
              "      <td>No</td>\n",
              "      <td>No</td>\n",
              "      <td>No internet service</td>\n",
              "      <td>No internet service</td>\n",
              "      <td>No internet service</td>\n",
              "      <td>No internet service</td>\n",
              "      <td>No internet service</td>\n",
              "      <td>No internet service</td>\n",
              "      <td>Two year</td>\n",
              "      <td>Yes</td>\n",
              "      <td>Credit card (automatic)</td>\n",
              "      <td>19.80</td>\n",
              "      <td>1414.65</td>\n",
              "    </tr>\n",
              "    <tr>\n",
              "      <th>8</th>\n",
              "      <td>Yes</td>\n",
              "      <td>5204-QZXPU</td>\n",
              "      <td>Male</td>\n",
              "      <td>0</td>\n",
              "      <td>No</td>\n",
              "      <td>No</td>\n",
              "      <td>19</td>\n",
              "      <td>No</td>\n",
              "      <td>No phone service</td>\n",
              "      <td>DSL</td>\n",
              "      <td>No</td>\n",
              "      <td>No</td>\n",
              "      <td>Yes</td>\n",
              "      <td>No</td>\n",
              "      <td>Yes</td>\n",
              "      <td>No</td>\n",
              "      <td>Month-to-month</td>\n",
              "      <td>Yes</td>\n",
              "      <td>Electronic check</td>\n",
              "      <td>39.65</td>\n",
              "      <td>733.35</td>\n",
              "    </tr>\n",
              "    <tr>\n",
              "      <th>9</th>\n",
              "      <td>No</td>\n",
              "      <td>0221-NAUXK</td>\n",
              "      <td>Male</td>\n",
              "      <td>0</td>\n",
              "      <td>No</td>\n",
              "      <td>Yes</td>\n",
              "      <td>10</td>\n",
              "      <td>Yes</td>\n",
              "      <td>No</td>\n",
              "      <td>No</td>\n",
              "      <td>No internet service</td>\n",
              "      <td>No internet service</td>\n",
              "      <td>No internet service</td>\n",
              "      <td>No internet service</td>\n",
              "      <td>No internet service</td>\n",
              "      <td>No internet service</td>\n",
              "      <td>One year</td>\n",
              "      <td>Yes</td>\n",
              "      <td>Bank transfer (automatic)</td>\n",
              "      <td>19.95</td>\n",
              "      <td>219.5</td>\n",
              "    </tr>\n",
              "  </tbody>\n",
              "</table>\n",
              "</div>"
            ],
            "text/plain": [
              "  Churn  customerID  ... MonthlyCharges  TotalCharges\n",
              "0    No  4223-BKEOR  ...          64.85        1336.8\n",
              "1    No  6035-RIIOM  ...          97.20       5129.45\n",
              "2   Yes  3797-VTIDR  ...          23.45         23.45\n",
              "3   Yes  2568-BRGYX  ...          70.20        237.95\n",
              "4    No  2775-SEFEE  ...          61.90              \n",
              "5    No  4291-SHSBH  ...          69.55        521.35\n",
              "6    No  4635-EJYPD  ...          18.95        613.95\n",
              "7    No  2607-DHDAK  ...          19.80       1414.65\n",
              "8   Yes  5204-QZXPU  ...          39.65        733.35\n",
              "9    No  0221-NAUXK  ...          19.95         219.5\n",
              "\n",
              "[10 rows x 21 columns]"
            ]
          },
          "metadata": {
            "tags": []
          },
          "execution_count": 408
        }
      ]
    },
    {
      "cell_type": "markdown",
      "metadata": {
        "id": "MDBpS12l99Qd",
        "colab_type": "text"
      },
      "source": [
        "###Analisi del dataset"
      ]
    },
    {
      "cell_type": "markdown",
      "metadata": {
        "id": "R9FLclQwNgfR",
        "colab_type": "text"
      },
      "source": [
        "La prima cosa da fare è scoprire qual è la forma del dataset:"
      ]
    },
    {
      "cell_type": "code",
      "metadata": {
        "id": "nj2YzlJU-Aha",
        "colab_type": "code",
        "colab": {
          "base_uri": "https://localhost:8080/",
          "height": 68
        },
        "outputId": "2b9e00e0-6493-4178-c044-949d30ca4220"
      },
      "source": [
        "# Numero di righe e colonne nel dataset\n",
        "print(f\"Shape: {telco_data.shape}\")\n",
        "print(f\"Numero di righe (utenti telefonici): {telco_data.shape[0]}\")\n",
        "print(f\"Numero di colonne: {telco_data.shape[1]}\")"
      ],
      "execution_count": 409,
      "outputs": [
        {
          "output_type": "stream",
          "text": [
            "Shape: (5634, 21)\n",
            "Numero di righe (utenti telefonici): 5634\n",
            "Numero di colonne: 21\n"
          ],
          "name": "stdout"
        }
      ]
    },
    {
      "cell_type": "markdown",
      "metadata": {
        "id": "cFN8N-9ZM5nB",
        "colab_type": "text"
      },
      "source": [
        "Vediamo di che tipo è ogni colonna del dataset:"
      ]
    },
    {
      "cell_type": "code",
      "metadata": {
        "id": "u3oXbHjxNEEb",
        "colab_type": "code",
        "colab": {
          "base_uri": "https://localhost:8080/",
          "height": 391
        },
        "outputId": "93cbe286-0ea8-4d9b-a3da-cf944b725b04"
      },
      "source": [
        "telco_data.dtypes"
      ],
      "execution_count": 410,
      "outputs": [
        {
          "output_type": "execute_result",
          "data": {
            "text/plain": [
              "Churn                object\n",
              "customerID           object\n",
              "gender               object\n",
              "SeniorCitizen         int64\n",
              "Partner              object\n",
              "Dependents           object\n",
              "tenure                int64\n",
              "PhoneService         object\n",
              "MultipleLines        object\n",
              "InternetService      object\n",
              "OnlineSecurity       object\n",
              "OnlineBackup         object\n",
              "DeviceProtection     object\n",
              "TechSupport          object\n",
              "StreamingTV          object\n",
              "StreamingMovies      object\n",
              "Contract             object\n",
              "PaperlessBilling     object\n",
              "PaymentMethod        object\n",
              "MonthlyCharges      float64\n",
              "TotalCharges         object\n",
              "dtype: object"
            ]
          },
          "metadata": {
            "tags": []
          },
          "execution_count": 410
        }
      ]
    },
    {
      "cell_type": "markdown",
      "metadata": {
        "id": "wK1e7IjVNFS3",
        "colab_type": "text"
      },
      "source": [
        "Poi si procede con il vedere se ci sono delle righe con valori non validi (NaN):"
      ]
    },
    {
      "cell_type": "code",
      "metadata": {
        "id": "844G7DQaNL-d",
        "colab_type": "code",
        "colab": {}
      },
      "source": [
        "# Sostituisco ad ogni stringa vuola il valore 'NaN'\n",
        "telco_data.replace(\"\", np.nan, inplace=True)\n",
        "telco_data.replace(\" \", np.nan, inplace=True)\n",
        "telco_data.replace(\"?\", np.nan, inplace=True)"
      ],
      "execution_count": 411,
      "outputs": []
    },
    {
      "cell_type": "code",
      "metadata": {
        "id": "IP9pHkL-B7_z",
        "colab_type": "code",
        "colab": {
          "base_uri": "https://localhost:8080/",
          "height": 391
        },
        "outputId": "5d4e1623-8879-4664-ccb7-41662edb5120"
      },
      "source": [
        "# Controllo dei dati non validi (NaN) nel dataset\n",
        "telco_data.isna().sum()"
      ],
      "execution_count": 412,
      "outputs": [
        {
          "output_type": "execute_result",
          "data": {
            "text/plain": [
              "Churn                0\n",
              "customerID           0\n",
              "gender               0\n",
              "SeniorCitizen        0\n",
              "Partner              0\n",
              "Dependents           0\n",
              "tenure               0\n",
              "PhoneService         0\n",
              "MultipleLines        0\n",
              "InternetService      0\n",
              "OnlineSecurity       0\n",
              "OnlineBackup         0\n",
              "DeviceProtection     0\n",
              "TechSupport          0\n",
              "StreamingTV          0\n",
              "StreamingMovies      0\n",
              "Contract             0\n",
              "PaperlessBilling     0\n",
              "PaymentMethod        0\n",
              "MonthlyCharges       0\n",
              "TotalCharges        10\n",
              "dtype: int64"
            ]
          },
          "metadata": {
            "tags": []
          },
          "execution_count": 412
        }
      ]
    },
    {
      "cell_type": "markdown",
      "metadata": {
        "id": "xI8gNEPsGHZp",
        "colab_type": "text"
      },
      "source": [
        "###Statistiche del dataset"
      ]
    },
    {
      "cell_type": "markdown",
      "metadata": {
        "id": "zBSSxXPxOhXF",
        "colab_type": "text"
      },
      "source": [
        "Ora vediamo un po' di statistiche e tabelle del dataset per valutare quali dati sono importanti ai fini dell'addestramento:"
      ]
    },
    {
      "cell_type": "code",
      "metadata": {
        "id": "qeBd_lFR_E3E",
        "colab_type": "code",
        "colab": {
          "base_uri": "https://localhost:8080/",
          "height": 297
        },
        "outputId": "4034a74f-4480-4fd5-b017-e0473bc3cfbe"
      },
      "source": [
        "# Statistiche del dataset\n",
        "telco_data.describe()"
      ],
      "execution_count": 413,
      "outputs": [
        {
          "output_type": "execute_result",
          "data": {
            "text/html": [
              "<div>\n",
              "<style scoped>\n",
              "    .dataframe tbody tr th:only-of-type {\n",
              "        vertical-align: middle;\n",
              "    }\n",
              "\n",
              "    .dataframe tbody tr th {\n",
              "        vertical-align: top;\n",
              "    }\n",
              "\n",
              "    .dataframe thead th {\n",
              "        text-align: right;\n",
              "    }\n",
              "</style>\n",
              "<table border=\"1\" class=\"dataframe\">\n",
              "  <thead>\n",
              "    <tr style=\"text-align: right;\">\n",
              "      <th></th>\n",
              "      <th>SeniorCitizen</th>\n",
              "      <th>tenure</th>\n",
              "      <th>MonthlyCharges</th>\n",
              "    </tr>\n",
              "  </thead>\n",
              "  <tbody>\n",
              "    <tr>\n",
              "      <th>count</th>\n",
              "      <td>5634.000000</td>\n",
              "      <td>5634.000000</td>\n",
              "      <td>5634.000000</td>\n",
              "    </tr>\n",
              "    <tr>\n",
              "      <th>mean</th>\n",
              "      <td>0.160809</td>\n",
              "      <td>32.373092</td>\n",
              "      <td>64.864253</td>\n",
              "    </tr>\n",
              "    <tr>\n",
              "      <th>std</th>\n",
              "      <td>0.367388</td>\n",
              "      <td>24.424539</td>\n",
              "      <td>30.089324</td>\n",
              "    </tr>\n",
              "    <tr>\n",
              "      <th>min</th>\n",
              "      <td>0.000000</td>\n",
              "      <td>0.000000</td>\n",
              "      <td>18.250000</td>\n",
              "    </tr>\n",
              "    <tr>\n",
              "      <th>25%</th>\n",
              "      <td>0.000000</td>\n",
              "      <td>9.000000</td>\n",
              "      <td>35.750000</td>\n",
              "    </tr>\n",
              "    <tr>\n",
              "      <th>50%</th>\n",
              "      <td>0.000000</td>\n",
              "      <td>29.000000</td>\n",
              "      <td>70.525000</td>\n",
              "    </tr>\n",
              "    <tr>\n",
              "      <th>75%</th>\n",
              "      <td>0.000000</td>\n",
              "      <td>55.000000</td>\n",
              "      <td>89.937500</td>\n",
              "    </tr>\n",
              "    <tr>\n",
              "      <th>max</th>\n",
              "      <td>1.000000</td>\n",
              "      <td>72.000000</td>\n",
              "      <td>118.600000</td>\n",
              "    </tr>\n",
              "  </tbody>\n",
              "</table>\n",
              "</div>"
            ],
            "text/plain": [
              "       SeniorCitizen       tenure  MonthlyCharges\n",
              "count    5634.000000  5634.000000     5634.000000\n",
              "mean        0.160809    32.373092       64.864253\n",
              "std         0.367388    24.424539       30.089324\n",
              "min         0.000000     0.000000       18.250000\n",
              "25%         0.000000     9.000000       35.750000\n",
              "50%         0.000000    29.000000       70.525000\n",
              "75%         0.000000    55.000000       89.937500\n",
              "max         1.000000    72.000000      118.600000"
            ]
          },
          "metadata": {
            "tags": []
          },
          "execution_count": 413
        }
      ]
    },
    {
      "cell_type": "code",
      "metadata": {
        "id": "8r8zt1teBg9O",
        "colab_type": "code",
        "colab": {
          "base_uri": "https://localhost:8080/",
          "height": 68
        },
        "outputId": "80941fb9-299d-415f-ffb4-9b1c22a34cce"
      },
      "source": [
        "# Numero dei churn\n",
        "telco_data['Churn'].value_counts()"
      ],
      "execution_count": 414,
      "outputs": [
        {
          "output_type": "execute_result",
          "data": {
            "text/plain": [
              "No     4138\n",
              "Yes    1496\n",
              "Name: Churn, dtype: int64"
            ]
          },
          "metadata": {
            "tags": []
          },
          "execution_count": 414
        }
      ]
    },
    {
      "cell_type": "code",
      "metadata": {
        "id": "lvnMlUoOFG8u",
        "colab_type": "code",
        "colab": {
          "base_uri": "https://localhost:8080/",
          "height": 296
        },
        "outputId": "a4884976-f6ab-41f2-f0f2-f7e502eab72f"
      },
      "source": [
        "# Diagramma che confronta le persone che hanno lasciato la compagnia telefonica\n",
        "sns.countplot(telco_data['Churn'])"
      ],
      "execution_count": 415,
      "outputs": [
        {
          "output_type": "execute_result",
          "data": {
            "text/plain": [
              "<matplotlib.axes._subplots.AxesSubplot at 0x7efd7f2b6cc0>"
            ]
          },
          "metadata": {
            "tags": []
          },
          "execution_count": 415
        },
        {
          "output_type": "display_data",
          "data": {
            "image/png": "[encoded data removed]",
            "text/plain": [
              "<Figure size 432x288 with 1 Axes>"
            ]
          },
          "metadata": {
            "tags": [],
            "needs_background": "light"
          }
        }
      ]
    },
    {
      "cell_type": "code",
      "metadata": {
        "id": "Y-NWQlglGEUk",
        "colab_type": "code",
        "colab": {
          "base_uri": "https://localhost:8080/",
          "height": 1000
        },
        "outputId": "78af77ba-ca37-435e-bb5d-0c03941b3912"
      },
      "source": [
        "# Alcuni grafici che mettono in relazione le features\n",
        "# del dataset con le persone che hanno lasciato la compagnia\n",
        "cols = ['gender', 'SeniorCitizen', 'Partner', 'Dependents', 'Contract', 'PaymentMethod',\n",
        "        'PhoneService', 'MultipleLines', 'InternetService', 'OnlineSecurity', 'OnlineBackup',\n",
        "        'DeviceProtection', 'TechSupport', 'StreamingTV', 'StreamingMovies', 'tenure']\n",
        "\n",
        "n_rows = 8\n",
        "n_cols = 2\n",
        "\n",
        "fig, axs = plt.subplots(n_rows, n_cols, figsize=(n_cols*8, n_rows*4))\n",
        "i=0\n",
        "for r in range(n_rows):\n",
        "  for c in range(n_cols):\n",
        "    ax = axs[r][c]\n",
        "    sns.countplot(telco_data[cols[i]], hue=telco_data['Churn'], ax=ax)\n",
        "    ax.set_title(cols[i])\n",
        "    ax.legend(title='Churn', loc='upper right')\n",
        "    i+=1\n",
        "\n",
        "plt.tight_layout()"
      ],
      "execution_count": 416,
      "outputs": [
        {
          "output_type": "display_data",
          "data": {
            "image/png": "[encoded data removed]",
            "text/plain": [
              "<Figure size 1152x2304 with 16 Axes>"
            ]
          },
          "metadata": {
            "tags": [],
            "needs_background": "light"
          }
        }
      ]
    },
    {
      "cell_type": "markdown",
      "metadata": {
        "id": "F2zPOeSI8SxU",
        "colab_type": "text"
      },
      "source": [
        "Dai grafici appena mostrati è evidente come gli attributi ```gender``` e ```partner``` non influenzano la scelta di disdire un contratto con la compagnia telefonica.\n",
        "\n"
      ]
    },
    {
      "cell_type": "code",
      "metadata": {
        "id": "QvGmJhzuHgsd",
        "colab_type": "code",
        "colab": {
          "base_uri": "https://localhost:8080/",
          "height": 1000
        },
        "outputId": "fa69d491-c338-4e7b-d51d-3e0c818fcb9c"
      },
      "source": [
        "# Riepilogo testuale dei valori del dataset\n",
        "for val in telco_data:\n",
        "  print(telco_data[val].value_counts())\n",
        "  print()"
      ],
      "execution_count": 417,
      "outputs": [
        {
          "output_type": "stream",
          "text": [
            "No     4138\n",
            "Yes    1496\n",
            "Name: Churn, dtype: int64\n",
            "\n",
            "0480-KYJVA    1\n",
            "5204-HMGYF    1\n",
            "0401-WDBXM    1\n",
            "2619-WFQWU    1\n",
            "1403-GYAFU    1\n",
            "             ..\n",
            "4667-QONEA    1\n",
            "8745-PVESG    1\n",
            "2504-DSHIH    1\n",
            "7317-GGVPB    1\n",
            "2348-KCJLT    1\n",
            "Name: customerID, Length: 5634, dtype: int64\n",
            "\n",
            "Male      2887\n",
            "Female    2747\n",
            "Name: gender, dtype: int64\n",
            "\n",
            "0    4728\n",
            "1     906\n",
            "Name: SeniorCitizen, dtype: int64\n",
            "\n",
            "No     2904\n",
            "Yes    2730\n",
            "Name: Partner, dtype: int64\n",
            "\n",
            "No     3951\n",
            "Yes    1683\n",
            "Name: Dependents, dtype: int64\n",
            "\n",
            "1     476\n",
            "72    286\n",
            "2     174\n",
            "3     161\n",
            "4     147\n",
            "     ... \n",
            "44     46\n",
            "39     43\n",
            "36     43\n",
            "45     43\n",
            "0      10\n",
            "Name: tenure, Length: 73, dtype: int64\n",
            "\n",
            "Yes    5082\n",
            "No      552\n",
            "Name: PhoneService, dtype: int64\n",
            "\n",
            "No                  2685\n",
            "Yes                 2397\n",
            "No phone service     552\n",
            "Name: MultipleLines, dtype: int64\n",
            "\n",
            "Fiber optic    2481\n",
            "DSL            1939\n",
            "No             1214\n",
            "Name: InternetService, dtype: int64\n",
            "\n",
            "No                     2810\n",
            "Yes                    1610\n",
            "No internet service    1214\n",
            "Name: OnlineSecurity, dtype: int64\n",
            "\n",
            "No                     2448\n",
            "Yes                    1972\n",
            "No internet service    1214\n",
            "Name: OnlineBackup, dtype: int64\n",
            "\n",
            "No                     2489\n",
            "Yes                    1931\n",
            "No internet service    1214\n",
            "Name: DeviceProtection, dtype: int64\n",
            "\n",
            "No                     2791\n",
            "Yes                    1629\n",
            "No internet service    1214\n",
            "Name: TechSupport, dtype: int64\n",
            "\n",
            "No                     2239\n",
            "Yes                    2181\n",
            "No internet service    1214\n",
            "Name: StreamingTV, dtype: int64\n",
            "\n",
            "No                     2223\n",
            "Yes                    2197\n",
            "No internet service    1214\n",
            "Name: StreamingMovies, dtype: int64\n",
            "\n",
            "Month-to-month    3083\n",
            "Two year          1339\n",
            "One year          1212\n",
            "Name: Contract, dtype: int64\n",
            "\n",
            "Yes    3325\n",
            "No     2309\n",
            "Name: PaperlessBilling, dtype: int64\n",
            "\n",
            "Electronic check             1887\n",
            "Mailed check                 1282\n",
            "Bank transfer (automatic)    1238\n",
            "Credit card (automatic)      1227\n",
            "Name: PaymentMethod, dtype: int64\n",
            "\n",
            "20.05     49\n",
            "19.95     36\n",
            "19.70     35\n",
            "19.85     35\n",
            "19.80     34\n",
            "          ..\n",
            "45.50      1\n",
            "113.00     1\n",
            "29.25      1\n",
            "87.75      1\n",
            "72.15      1\n",
            "Name: MonthlyCharges, Length: 1495, dtype: int64\n",
            "\n",
            "20.2       10\n",
            "19.75       8\n",
            "19.55       6\n",
            "20.05       6\n",
            "19.9        6\n",
            "           ..\n",
            "356.15      1\n",
            "3946.9      1\n",
            "106.85      1\n",
            "1336.15     1\n",
            "703.55      1\n",
            "Name: TotalCharges, Length: 5299, dtype: int64\n",
            "\n"
          ],
          "name": "stdout"
        }
      ]
    },
    {
      "cell_type": "markdown",
      "metadata": {
        "id": "UL7zZsUraz4n",
        "colab_type": "text"
      },
      "source": [
        "###Operazione di preprocessing del dataset"
      ]
    },
    {
      "cell_type": "markdown",
      "metadata": {
        "id": "thY11ybWbwk-",
        "colab_type": "text"
      },
      "source": [
        "La prima operazione da fare è quella di eliminare tutte le righe che contengono almeno un valore NaN:"
      ]
    },
    {
      "cell_type": "code",
      "metadata": {
        "id": "aqISF4aBOCxR",
        "colab_type": "code",
        "colab": {}
      },
      "source": [
        "# Procediamo con l'eliminazione dei dati non validi (NaN)\n",
        "telco_data.dropna(inplace=True)"
      ],
      "execution_count": 418,
      "outputs": []
    },
    {
      "cell_type": "code",
      "metadata": {
        "id": "p8q_oUc_ORcV",
        "colab_type": "code",
        "colab": {
          "base_uri": "https://localhost:8080/",
          "height": 391
        },
        "outputId": "2b0b46da-b029-45fc-9ad7-9c336998264e"
      },
      "source": [
        "# Controlliamo che non vi siano più nessun valore nullo\n",
        "telco_data.isna().sum()"
      ],
      "execution_count": 419,
      "outputs": [
        {
          "output_type": "execute_result",
          "data": {
            "text/plain": [
              "Churn               0\n",
              "customerID          0\n",
              "gender              0\n",
              "SeniorCitizen       0\n",
              "Partner             0\n",
              "Dependents          0\n",
              "tenure              0\n",
              "PhoneService        0\n",
              "MultipleLines       0\n",
              "InternetService     0\n",
              "OnlineSecurity      0\n",
              "OnlineBackup        0\n",
              "DeviceProtection    0\n",
              "TechSupport         0\n",
              "StreamingTV         0\n",
              "StreamingMovies     0\n",
              "Contract            0\n",
              "PaperlessBilling    0\n",
              "PaymentMethod       0\n",
              "MonthlyCharges      0\n",
              "TotalCharges        0\n",
              "dtype: int64"
            ]
          },
          "metadata": {
            "tags": []
          },
          "execution_count": 419
        }
      ]
    },
    {
      "cell_type": "code",
      "metadata": {
        "id": "I45M6_EoaaDh",
        "colab_type": "code",
        "colab": {
          "base_uri": "https://localhost:8080/",
          "height": 68
        },
        "outputId": "4d02110a-db9c-4cfe-8083-778023fd22c6"
      },
      "source": [
        "# Stampa della nuova shape dopo l'eliminazione delle righe non valide\n",
        "print(f\"Shape: {telco_data.shape}\")\n",
        "print(f\"Numero di righe (utenti telefonici): {telco_data.shape[0]}\")\n",
        "print(f\"Numero di colonne: {telco_data.shape[1]}\")"
      ],
      "execution_count": 420,
      "outputs": [
        {
          "output_type": "stream",
          "text": [
            "Shape: (5624, 21)\n",
            "Numero di righe (utenti telefonici): 5624\n",
            "Numero di colonne: 21\n"
          ],
          "name": "stdout"
        }
      ]
    },
    {
      "cell_type": "markdown",
      "metadata": {
        "id": "bd2mi6oza-XR",
        "colab_type": "text"
      },
      "source": [
        "Successivamente si procede con l'operazione di codifica del dataset. Poiché la rete neurale lavora con i numeri float, per comodità, si è fatta la conversione fin da subito."
      ]
    },
    {
      "cell_type": "code",
      "metadata": {
        "id": "gJHK0MuRcj1f",
        "colab_type": "code",
        "colab": {}
      },
      "source": [
        "# Codifica di tutti i dati del dataset e trasformazione in float64\n",
        "for elem in telco_data:\n",
        "  if elem==\"MonthlyCharges\" or elem==\"TotalCharges\" or elem==\"tenure\":\n",
        "    telco_data[elem] = telco_data[elem].astype('float')\n",
        "  else:\n",
        "    telco_data[elem] = (pd.Categorical(telco_data[elem])).codes.astype('float')"
      ],
      "execution_count": 421,
      "outputs": []
    },
    {
      "cell_type": "code",
      "metadata": {
        "id": "bZyD-fpE1R1H",
        "colab_type": "code",
        "colab": {
          "base_uri": "https://localhost:8080/",
          "height": 391
        },
        "outputId": "d974d461-bbb8-454f-af76-6686e53f8415"
      },
      "source": [
        "telco_data.dtypes"
      ],
      "execution_count": 422,
      "outputs": [
        {
          "output_type": "execute_result",
          "data": {
            "text/plain": [
              "Churn               float64\n",
              "customerID          float64\n",
              "gender              float64\n",
              "SeniorCitizen       float64\n",
              "Partner             float64\n",
              "Dependents          float64\n",
              "tenure              float64\n",
              "PhoneService        float64\n",
              "MultipleLines       float64\n",
              "InternetService     float64\n",
              "OnlineSecurity      float64\n",
              "OnlineBackup        float64\n",
              "DeviceProtection    float64\n",
              "TechSupport         float64\n",
              "StreamingTV         float64\n",
              "StreamingMovies     float64\n",
              "Contract            float64\n",
              "PaperlessBilling    float64\n",
              "PaymentMethod       float64\n",
              "MonthlyCharges      float64\n",
              "TotalCharges        float64\n",
              "dtype: object"
            ]
          },
          "metadata": {
            "tags": []
          },
          "execution_count": 422
        }
      ]
    },
    {
      "cell_type": "code",
      "metadata": {
        "id": "bawQ6y1xcyGJ",
        "colab_type": "code",
        "colab": {
          "base_uri": "https://localhost:8080/",
          "height": 379
        },
        "outputId": "8ce8c0b0-1c3a-4576-dfa9-4899076d69db"
      },
      "source": [
        "# Stampa delle prime 10 righe del dataset codificato\n",
        "telco_data.head(10)"
      ],
      "execution_count": 423,
      "outputs": [
        {
          "output_type": "execute_result",
          "data": {
            "text/html": [
              "<div>\n",
              "<style scoped>\n",
              "    .dataframe tbody tr th:only-of-type {\n",
              "        vertical-align: middle;\n",
              "    }\n",
              "\n",
              "    .dataframe tbody tr th {\n",
              "        vertical-align: top;\n",
              "    }\n",
              "\n",
              "    .dataframe thead th {\n",
              "        text-align: right;\n",
              "    }\n",
              "</style>\n",
              "<table border=\"1\" class=\"dataframe\">\n",
              "  <thead>\n",
              "    <tr style=\"text-align: right;\">\n",
              "      <th></th>\n",
              "      <th>Churn</th>\n",
              "      <th>customerID</th>\n",
              "      <th>gender</th>\n",
              "      <th>SeniorCitizen</th>\n",
              "      <th>Partner</th>\n",
              "      <th>Dependents</th>\n",
              "      <th>tenure</th>\n",
              "      <th>PhoneService</th>\n",
              "      <th>MultipleLines</th>\n",
              "      <th>InternetService</th>\n",
              "      <th>OnlineSecurity</th>\n",
              "      <th>OnlineBackup</th>\n",
              "      <th>DeviceProtection</th>\n",
              "      <th>TechSupport</th>\n",
              "      <th>StreamingTV</th>\n",
              "      <th>StreamingMovies</th>\n",
              "      <th>Contract</th>\n",
              "      <th>PaperlessBilling</th>\n",
              "      <th>PaymentMethod</th>\n",
              "      <th>MonthlyCharges</th>\n",
              "      <th>TotalCharges</th>\n",
              "    </tr>\n",
              "  </thead>\n",
              "  <tbody>\n",
              "    <tr>\n",
              "      <th>0</th>\n",
              "      <td>0.0</td>\n",
              "      <td>2364.0</td>\n",
              "      <td>0.0</td>\n",
              "      <td>0.0</td>\n",
              "      <td>0.0</td>\n",
              "      <td>1.0</td>\n",
              "      <td>21.0</td>\n",
              "      <td>1.0</td>\n",
              "      <td>0.0</td>\n",
              "      <td>0.0</td>\n",
              "      <td>2.0</td>\n",
              "      <td>0.0</td>\n",
              "      <td>2.0</td>\n",
              "      <td>0.0</td>\n",
              "      <td>0.0</td>\n",
              "      <td>2.0</td>\n",
              "      <td>1.0</td>\n",
              "      <td>0.0</td>\n",
              "      <td>3.0</td>\n",
              "      <td>64.85</td>\n",
              "      <td>1336.80</td>\n",
              "    </tr>\n",
              "    <tr>\n",
              "      <th>1</th>\n",
              "      <td>0.0</td>\n",
              "      <td>3448.0</td>\n",
              "      <td>0.0</td>\n",
              "      <td>0.0</td>\n",
              "      <td>0.0</td>\n",
              "      <td>0.0</td>\n",
              "      <td>54.0</td>\n",
              "      <td>1.0</td>\n",
              "      <td>2.0</td>\n",
              "      <td>1.0</td>\n",
              "      <td>0.0</td>\n",
              "      <td>2.0</td>\n",
              "      <td>0.0</td>\n",
              "      <td>0.0</td>\n",
              "      <td>2.0</td>\n",
              "      <td>2.0</td>\n",
              "      <td>2.0</td>\n",
              "      <td>1.0</td>\n",
              "      <td>0.0</td>\n",
              "      <td>97.20</td>\n",
              "      <td>5129.45</td>\n",
              "    </tr>\n",
              "    <tr>\n",
              "      <th>2</th>\n",
              "      <td>1.0</td>\n",
              "      <td>2143.0</td>\n",
              "      <td>1.0</td>\n",
              "      <td>0.0</td>\n",
              "      <td>1.0</td>\n",
              "      <td>0.0</td>\n",
              "      <td>1.0</td>\n",
              "      <td>0.0</td>\n",
              "      <td>1.0</td>\n",
              "      <td>0.0</td>\n",
              "      <td>0.0</td>\n",
              "      <td>0.0</td>\n",
              "      <td>0.0</td>\n",
              "      <td>0.0</td>\n",
              "      <td>0.0</td>\n",
              "      <td>0.0</td>\n",
              "      <td>0.0</td>\n",
              "      <td>1.0</td>\n",
              "      <td>2.0</td>\n",
              "      <td>23.45</td>\n",
              "      <td>23.45</td>\n",
              "    </tr>\n",
              "    <tr>\n",
              "      <th>3</th>\n",
              "      <td>1.0</td>\n",
              "      <td>1424.0</td>\n",
              "      <td>1.0</td>\n",
              "      <td>0.0</td>\n",
              "      <td>0.0</td>\n",
              "      <td>0.0</td>\n",
              "      <td>4.0</td>\n",
              "      <td>1.0</td>\n",
              "      <td>0.0</td>\n",
              "      <td>1.0</td>\n",
              "      <td>0.0</td>\n",
              "      <td>0.0</td>\n",
              "      <td>0.0</td>\n",
              "      <td>0.0</td>\n",
              "      <td>0.0</td>\n",
              "      <td>0.0</td>\n",
              "      <td>0.0</td>\n",
              "      <td>1.0</td>\n",
              "      <td>2.0</td>\n",
              "      <td>70.20</td>\n",
              "      <td>237.95</td>\n",
              "    </tr>\n",
              "    <tr>\n",
              "      <th>5</th>\n",
              "      <td>0.0</td>\n",
              "      <td>2394.0</td>\n",
              "      <td>1.0</td>\n",
              "      <td>0.0</td>\n",
              "      <td>0.0</td>\n",
              "      <td>0.0</td>\n",
              "      <td>7.0</td>\n",
              "      <td>1.0</td>\n",
              "      <td>0.0</td>\n",
              "      <td>1.0</td>\n",
              "      <td>0.0</td>\n",
              "      <td>0.0</td>\n",
              "      <td>0.0</td>\n",
              "      <td>0.0</td>\n",
              "      <td>0.0</td>\n",
              "      <td>0.0</td>\n",
              "      <td>0.0</td>\n",
              "      <td>1.0</td>\n",
              "      <td>2.0</td>\n",
              "      <td>69.55</td>\n",
              "      <td>521.35</td>\n",
              "    </tr>\n",
              "    <tr>\n",
              "      <th>6</th>\n",
              "      <td>0.0</td>\n",
              "      <td>2593.0</td>\n",
              "      <td>1.0</td>\n",
              "      <td>0.0</td>\n",
              "      <td>1.0</td>\n",
              "      <td>1.0</td>\n",
              "      <td>32.0</td>\n",
              "      <td>1.0</td>\n",
              "      <td>0.0</td>\n",
              "      <td>2.0</td>\n",
              "      <td>1.0</td>\n",
              "      <td>1.0</td>\n",
              "      <td>1.0</td>\n",
              "      <td>1.0</td>\n",
              "      <td>1.0</td>\n",
              "      <td>1.0</td>\n",
              "      <td>2.0</td>\n",
              "      <td>0.0</td>\n",
              "      <td>3.0</td>\n",
              "      <td>18.95</td>\n",
              "      <td>613.95</td>\n",
              "    </tr>\n",
              "    <tr>\n",
              "      <th>7</th>\n",
              "      <td>0.0</td>\n",
              "      <td>1446.0</td>\n",
              "      <td>1.0</td>\n",
              "      <td>0.0</td>\n",
              "      <td>1.0</td>\n",
              "      <td>1.0</td>\n",
              "      <td>72.0</td>\n",
              "      <td>1.0</td>\n",
              "      <td>0.0</td>\n",
              "      <td>2.0</td>\n",
              "      <td>1.0</td>\n",
              "      <td>1.0</td>\n",
              "      <td>1.0</td>\n",
              "      <td>1.0</td>\n",
              "      <td>1.0</td>\n",
              "      <td>1.0</td>\n",
              "      <td>2.0</td>\n",
              "      <td>1.0</td>\n",
              "      <td>1.0</td>\n",
              "      <td>19.80</td>\n",
              "      <td>1414.65</td>\n",
              "    </tr>\n",
              "    <tr>\n",
              "      <th>8</th>\n",
              "      <td>1.0</td>\n",
              "      <td>2953.0</td>\n",
              "      <td>1.0</td>\n",
              "      <td>0.0</td>\n",
              "      <td>0.0</td>\n",
              "      <td>0.0</td>\n",
              "      <td>19.0</td>\n",
              "      <td>0.0</td>\n",
              "      <td>1.0</td>\n",
              "      <td>0.0</td>\n",
              "      <td>0.0</td>\n",
              "      <td>0.0</td>\n",
              "      <td>2.0</td>\n",
              "      <td>0.0</td>\n",
              "      <td>2.0</td>\n",
              "      <td>0.0</td>\n",
              "      <td>0.0</td>\n",
              "      <td>1.0</td>\n",
              "      <td>2.0</td>\n",
              "      <td>39.65</td>\n",
              "      <td>733.35</td>\n",
              "    </tr>\n",
              "    <tr>\n",
              "      <th>9</th>\n",
              "      <td>0.0</td>\n",
              "      <td>103.0</td>\n",
              "      <td>1.0</td>\n",
              "      <td>0.0</td>\n",
              "      <td>0.0</td>\n",
              "      <td>1.0</td>\n",
              "      <td>10.0</td>\n",
              "      <td>1.0</td>\n",
              "      <td>0.0</td>\n",
              "      <td>2.0</td>\n",
              "      <td>1.0</td>\n",
              "      <td>1.0</td>\n",
              "      <td>1.0</td>\n",
              "      <td>1.0</td>\n",
              "      <td>1.0</td>\n",
              "      <td>1.0</td>\n",
              "      <td>1.0</td>\n",
              "      <td>1.0</td>\n",
              "      <td>0.0</td>\n",
              "      <td>19.95</td>\n",
              "      <td>219.50</td>\n",
              "    </tr>\n",
              "    <tr>\n",
              "      <th>10</th>\n",
              "      <td>1.0</td>\n",
              "      <td>1911.0</td>\n",
              "      <td>1.0</td>\n",
              "      <td>1.0</td>\n",
              "      <td>1.0</td>\n",
              "      <td>0.0</td>\n",
              "      <td>21.0</td>\n",
              "      <td>1.0</td>\n",
              "      <td>0.0</td>\n",
              "      <td>1.0</td>\n",
              "      <td>0.0</td>\n",
              "      <td>0.0</td>\n",
              "      <td>0.0</td>\n",
              "      <td>0.0</td>\n",
              "      <td>0.0</td>\n",
              "      <td>0.0</td>\n",
              "      <td>0.0</td>\n",
              "      <td>1.0</td>\n",
              "      <td>2.0</td>\n",
              "      <td>69.10</td>\n",
              "      <td>1474.75</td>\n",
              "    </tr>\n",
              "  </tbody>\n",
              "</table>\n",
              "</div>"
            ],
            "text/plain": [
              "    Churn  customerID  gender  ...  PaymentMethod  MonthlyCharges  TotalCharges\n",
              "0     0.0      2364.0     0.0  ...            3.0           64.85       1336.80\n",
              "1     0.0      3448.0     0.0  ...            0.0           97.20       5129.45\n",
              "2     1.0      2143.0     1.0  ...            2.0           23.45         23.45\n",
              "3     1.0      1424.0     1.0  ...            2.0           70.20        237.95\n",
              "5     0.0      2394.0     1.0  ...            2.0           69.55        521.35\n",
              "6     0.0      2593.0     1.0  ...            3.0           18.95        613.95\n",
              "7     0.0      1446.0     1.0  ...            1.0           19.80       1414.65\n",
              "8     1.0      2953.0     1.0  ...            2.0           39.65        733.35\n",
              "9     0.0       103.0     1.0  ...            0.0           19.95        219.50\n",
              "10    1.0      1911.0     1.0  ...            2.0           69.10       1474.75\n",
              "\n",
              "[10 rows x 21 columns]"
            ]
          },
          "metadata": {
            "tags": []
          },
          "execution_count": 423
        }
      ]
    },
    {
      "cell_type": "markdown",
      "metadata": {
        "id": "d7iH9mxSeVLG",
        "colab_type": "text"
      },
      "source": [
        "###Ripartizione del dataset"
      ]
    },
    {
      "cell_type": "markdown",
      "metadata": {
        "id": "25VSOTojeZ7t",
        "colab_type": "text"
      },
      "source": [
        "Scegliamo le colonne che **non** vogliamo usare per addestrare la rete neurale."
      ]
    },
    {
      "cell_type": "code",
      "metadata": {
        "id": "x2dq0_pWegUh",
        "colab_type": "code",
        "colab": {}
      },
      "source": [
        "# Scegliamo la colonna che contiene le soluzioni per l'addestramento\n",
        "label = 'Churn'\n",
        "\n",
        "# Di seguito è mostrata la lista contenete le colonne che abbiamo ritenuto\n",
        "# essere di scarso valore ai fini dell'addestramento\n",
        "not_features = ['customerID', 'gender', 'Partner']"
      ],
      "execution_count": 424,
      "outputs": []
    },
    {
      "cell_type": "markdown",
      "metadata": {
        "id": "oU2VK1ymfSWQ",
        "colab_type": "text"
      },
      "source": [
        "Eseguiamo lo split del dataset"
      ]
    },
    {
      "cell_type": "code",
      "metadata": {
        "id": "iVe8NtwHfVaR",
        "colab_type": "code",
        "colab": {}
      },
      "source": [
        "# Dividiamo il train set in due parti così da poter addestrare la rete:\n",
        "# y che contiene solo la colonna 'Churn' che consiste nella soluzione al problema\n",
        "# X che contiene tutte le altre colonne tranne quelle considerate di non interesse.\n",
        "y = telco_data.pop(label)\n",
        "X = telco_data.drop(not_features, axis=1)\n",
        "\n",
        "# Il dataset viene nuovamente diviso in altre parti:\n",
        "# train_X e train_y che sono le parti usate per l'addestramento;\n",
        "# val_X e val_y che contengono le parti per la valutazione della rete;\n",
        "# test_X e test_y per effettuare le predizioni e assicurarsi il corretto\n",
        "# funzionamento. \n",
        "train_X, val_X, train_y, val_y = train_test_split(X, y, test_size=.2)\n",
        "train_X, test_X, train_y, test_y = train_test_split(train_X, train_y, test_size=.1)\n",
        "\n",
        "# I dati vengono poi memorizzati dentro un Dataset di Tensorflow per sfruttarli\n",
        "# per l'addestramento. Questa stessa operazione viene poi fatta anche per il\n",
        "# test set e per l'evaluetion set.\n",
        "train_dataset = (tf.data.Dataset.from_tensor_slices((train_X.values, train_y.values))).shuffle(len(train_X)).batch(1)\n",
        "val_dataset = (tf.data.Dataset.from_tensor_slices((val_X.values, val_y.values))).shuffle(len(val_X)).batch(1)\n",
        "test_dataset = (tf.data.Dataset.from_tensor_slices(test_X.values)).batch(1)"
      ],
      "execution_count": 425,
      "outputs": []
    },
    {
      "cell_type": "code",
      "metadata": {
        "id": "8lmd_0tP9v-k",
        "colab_type": "code",
        "colab": {
          "base_uri": "https://localhost:8080/",
          "height": 34
        },
        "outputId": "ce78489d-0a0a-4e63-810f-bdf9fb40ffc1"
      },
      "source": [
        "print(val_X.shape)"
      ],
      "execution_count": 426,
      "outputs": [
        {
          "output_type": "stream",
          "text": [
            "(1125, 17)\n"
          ],
          "name": "stdout"
        }
      ]
    },
    {
      "cell_type": "code",
      "metadata": {
        "id": "RDqHaS3cLbC3",
        "colab_type": "code",
        "colab": {
          "base_uri": "https://localhost:8080/",
          "height": 224
        },
        "outputId": "77ecb1a3-c265-4e75-87ca-fc34b5420138"
      },
      "source": [
        "telco_data.head()"
      ],
      "execution_count": 427,
      "outputs": [
        {
          "output_type": "execute_result",
          "data": {
            "text/html": [
              "<div>\n",
              "<style scoped>\n",
              "    .dataframe tbody tr th:only-of-type {\n",
              "        vertical-align: middle;\n",
              "    }\n",
              "\n",
              "    .dataframe tbody tr th {\n",
              "        vertical-align: top;\n",
              "    }\n",
              "\n",
              "    .dataframe thead th {\n",
              "        text-align: right;\n",
              "    }\n",
              "</style>\n",
              "<table border=\"1\" class=\"dataframe\">\n",
              "  <thead>\n",
              "    <tr style=\"text-align: right;\">\n",
              "      <th></th>\n",
              "      <th>customerID</th>\n",
              "      <th>gender</th>\n",
              "      <th>SeniorCitizen</th>\n",
              "      <th>Partner</th>\n",
              "      <th>Dependents</th>\n",
              "      <th>tenure</th>\n",
              "      <th>PhoneService</th>\n",
              "      <th>MultipleLines</th>\n",
              "      <th>InternetService</th>\n",
              "      <th>OnlineSecurity</th>\n",
              "      <th>OnlineBackup</th>\n",
              "      <th>DeviceProtection</th>\n",
              "      <th>TechSupport</th>\n",
              "      <th>StreamingTV</th>\n",
              "      <th>StreamingMovies</th>\n",
              "      <th>Contract</th>\n",
              "      <th>PaperlessBilling</th>\n",
              "      <th>PaymentMethod</th>\n",
              "      <th>MonthlyCharges</th>\n",
              "      <th>TotalCharges</th>\n",
              "    </tr>\n",
              "  </thead>\n",
              "  <tbody>\n",
              "    <tr>\n",
              "      <th>0</th>\n",
              "      <td>2364.0</td>\n",
              "      <td>0.0</td>\n",
              "      <td>0.0</td>\n",
              "      <td>0.0</td>\n",
              "      <td>1.0</td>\n",
              "      <td>21.0</td>\n",
              "      <td>1.0</td>\n",
              "      <td>0.0</td>\n",
              "      <td>0.0</td>\n",
              "      <td>2.0</td>\n",
              "      <td>0.0</td>\n",
              "      <td>2.0</td>\n",
              "      <td>0.0</td>\n",
              "      <td>0.0</td>\n",
              "      <td>2.0</td>\n",
              "      <td>1.0</td>\n",
              "      <td>0.0</td>\n",
              "      <td>3.0</td>\n",
              "      <td>64.85</td>\n",
              "      <td>1336.80</td>\n",
              "    </tr>\n",
              "    <tr>\n",
              "      <th>1</th>\n",
              "      <td>3448.0</td>\n",
              "      <td>0.0</td>\n",
              "      <td>0.0</td>\n",
              "      <td>0.0</td>\n",
              "      <td>0.0</td>\n",
              "      <td>54.0</td>\n",
              "      <td>1.0</td>\n",
              "      <td>2.0</td>\n",
              "      <td>1.0</td>\n",
              "      <td>0.0</td>\n",
              "      <td>2.0</td>\n",
              "      <td>0.0</td>\n",
              "      <td>0.0</td>\n",
              "      <td>2.0</td>\n",
              "      <td>2.0</td>\n",
              "      <td>2.0</td>\n",
              "      <td>1.0</td>\n",
              "      <td>0.0</td>\n",
              "      <td>97.20</td>\n",
              "      <td>5129.45</td>\n",
              "    </tr>\n",
              "    <tr>\n",
              "      <th>2</th>\n",
              "      <td>2143.0</td>\n",
              "      <td>1.0</td>\n",
              "      <td>0.0</td>\n",
              "      <td>1.0</td>\n",
              "      <td>0.0</td>\n",
              "      <td>1.0</td>\n",
              "      <td>0.0</td>\n",
              "      <td>1.0</td>\n",
              "      <td>0.0</td>\n",
              "      <td>0.0</td>\n",
              "      <td>0.0</td>\n",
              "      <td>0.0</td>\n",
              "      <td>0.0</td>\n",
              "      <td>0.0</td>\n",
              "      <td>0.0</td>\n",
              "      <td>0.0</td>\n",
              "      <td>1.0</td>\n",
              "      <td>2.0</td>\n",
              "      <td>23.45</td>\n",
              "      <td>23.45</td>\n",
              "    </tr>\n",
              "    <tr>\n",
              "      <th>3</th>\n",
              "      <td>1424.0</td>\n",
              "      <td>1.0</td>\n",
              "      <td>0.0</td>\n",
              "      <td>0.0</td>\n",
              "      <td>0.0</td>\n",
              "      <td>4.0</td>\n",
              "      <td>1.0</td>\n",
              "      <td>0.0</td>\n",
              "      <td>1.0</td>\n",
              "      <td>0.0</td>\n",
              "      <td>0.0</td>\n",
              "      <td>0.0</td>\n",
              "      <td>0.0</td>\n",
              "      <td>0.0</td>\n",
              "      <td>0.0</td>\n",
              "      <td>0.0</td>\n",
              "      <td>1.0</td>\n",
              "      <td>2.0</td>\n",
              "      <td>70.20</td>\n",
              "      <td>237.95</td>\n",
              "    </tr>\n",
              "    <tr>\n",
              "      <th>5</th>\n",
              "      <td>2394.0</td>\n",
              "      <td>1.0</td>\n",
              "      <td>0.0</td>\n",
              "      <td>0.0</td>\n",
              "      <td>0.0</td>\n",
              "      <td>7.0</td>\n",
              "      <td>1.0</td>\n",
              "      <td>0.0</td>\n",
              "      <td>1.0</td>\n",
              "      <td>0.0</td>\n",
              "      <td>0.0</td>\n",
              "      <td>0.0</td>\n",
              "      <td>0.0</td>\n",
              "      <td>0.0</td>\n",
              "      <td>0.0</td>\n",
              "      <td>0.0</td>\n",
              "      <td>1.0</td>\n",
              "      <td>2.0</td>\n",
              "      <td>69.55</td>\n",
              "      <td>521.35</td>\n",
              "    </tr>\n",
              "  </tbody>\n",
              "</table>\n",
              "</div>"
            ],
            "text/plain": [
              "   customerID  gender  ...  MonthlyCharges  TotalCharges\n",
              "0      2364.0     0.0  ...           64.85       1336.80\n",
              "1      3448.0     0.0  ...           97.20       5129.45\n",
              "2      2143.0     1.0  ...           23.45         23.45\n",
              "3      1424.0     1.0  ...           70.20        237.95\n",
              "5      2394.0     1.0  ...           69.55        521.35\n",
              "\n",
              "[5 rows x 20 columns]"
            ]
          },
          "metadata": {
            "tags": []
          },
          "execution_count": 427
        }
      ]
    },
    {
      "cell_type": "markdown",
      "metadata": {
        "id": "Zpe_Gz9PgOnz",
        "colab_type": "text"
      },
      "source": [
        "##La Neural Network"
      ]
    },
    {
      "cell_type": "markdown",
      "metadata": {
        "id": "Twkm7N5VgaBw",
        "colab_type": "text"
      },
      "source": [
        "Per la risoluzione del problema si è scelto di utilizzare una rete neurale stratificata."
      ]
    },
    {
      "cell_type": "markdown",
      "metadata": {
        "id": "sSLjzrPiCDbk",
        "colab_type": "text"
      },
      "source": [
        "###Definizione della rete neurale"
      ]
    },
    {
      "cell_type": "markdown",
      "metadata": {
        "id": "__uQ1baUHiLI",
        "colab_type": "text"
      },
      "source": [
        "Definiamo il modello da utilizzare:"
      ]
    },
    {
      "cell_type": "code",
      "metadata": {
        "id": "Zrd8CM34gR5J",
        "colab_type": "code",
        "colab": {}
      },
      "source": [
        "num_inputs = X.shape[1]"
      ],
      "execution_count": 428,
      "outputs": []
    },
    {
      "cell_type": "code",
      "metadata": {
        "id": "6QDsJML8gUiJ",
        "colab_type": "code",
        "colab": {
          "base_uri": "https://localhost:8080/",
          "height": 255
        },
        "outputId": "ffe197f4-513b-47e5-d10d-276fcabeff21"
      },
      "source": [
        "model_rn = keras.Sequential([\n",
        "  tf.keras.layers.Dense(128, input_dim=num_inputs, activation='relu'),\n",
        "  tf.keras.layers.Dense(128, activation='relu'),\n",
        "  tf.keras.layers.Dense(1)\n",
        "])\n",
        "\n",
        "model_rn.summary()\n",
        "\n",
        "model_rn.compile(optimizer='adam',\n",
        "                 loss=tf.keras.losses.BinaryCrossentropy(from_logits=True),\n",
        "                 metrics=['accuracy'])"
      ],
      "execution_count": 429,
      "outputs": [
        {
          "output_type": "stream",
          "text": [
            "Model: \"sequential_9\"\n",
            "_________________________________________________________________\n",
            "Layer (type)                 Output Shape              Param #   \n",
            "=================================================================\n",
            "dense_29 (Dense)             (None, 128)               2304      \n",
            "_________________________________________________________________\n",
            "dense_30 (Dense)             (None, 128)               16512     \n",
            "_________________________________________________________________\n",
            "dense_31 (Dense)             (None, 1)                 129       \n",
            "=================================================================\n",
            "Total params: 18,945\n",
            "Trainable params: 18,945\n",
            "Non-trainable params: 0\n",
            "_________________________________________________________________\n"
          ],
          "name": "stdout"
        }
      ]
    },
    {
      "cell_type": "markdown",
      "metadata": {
        "id": "mcuQdjiWghQH",
        "colab_type": "text"
      },
      "source": [
        "####Addestramento della rete neurale"
      ]
    },
    {
      "cell_type": "markdown",
      "metadata": {
        "id": "oL1D7f_GHl7I",
        "colab_type": "text"
      },
      "source": [
        "Procediamo con l'addestramento della rete neurale."
      ]
    },
    {
      "cell_type": "code",
      "metadata": {
        "id": "MlyT6EzrglUO",
        "colab_type": "code",
        "colab": {
          "base_uri": "https://localhost:8080/",
          "height": 357
        },
        "outputId": "a634faff-abea-4feb-acc0-a128d0869ff5"
      },
      "source": [
        "# Addestramento della rete neurale\n",
        "history = model_rn.fit(train_dataset, epochs=10)"
      ],
      "execution_count": 430,
      "outputs": [
        {
          "output_type": "stream",
          "text": [
            "Epoch 1/10\n",
            "4049/4049 [==============================] - 5s 1ms/step - loss: 8.7054 - accuracy: 0.7002\n",
            "Epoch 2/10\n",
            "4049/4049 [==============================] - 5s 1ms/step - loss: 0.9457 - accuracy: 0.7427\n",
            "Epoch 3/10\n",
            "4049/4049 [==============================] - 5s 1ms/step - loss: 0.5156 - accuracy: 0.7661\n",
            "Epoch 4/10\n",
            "4049/4049 [==============================] - 5s 1ms/step - loss: 0.5048 - accuracy: 0.7664\n",
            "Epoch 5/10\n",
            "4049/4049 [==============================] - 5s 1ms/step - loss: 0.5034 - accuracy: 0.7644\n",
            "Epoch 6/10\n",
            "4049/4049 [==============================] - 5s 1ms/step - loss: 0.4939 - accuracy: 0.7698\n",
            "Epoch 7/10\n",
            "4049/4049 [==============================] - 5s 1ms/step - loss: 0.4880 - accuracy: 0.7654\n",
            "Epoch 8/10\n",
            "4049/4049 [==============================] - 5s 1ms/step - loss: 0.4935 - accuracy: 0.7743\n",
            "Epoch 9/10\n",
            "4049/4049 [==============================] - 5s 1ms/step - loss: 0.4778 - accuracy: 0.7659\n",
            "Epoch 10/10\n",
            "4049/4049 [==============================] - 5s 1ms/step - loss: 0.4742 - accuracy: 0.7743\n"
          ],
          "name": "stdout"
        }
      ]
    },
    {
      "cell_type": "markdown",
      "metadata": {
        "id": "OzHuiWx8Hsuh",
        "colab_type": "text"
      },
      "source": [
        "Nel seguente grafico è possibile visualizzare l'andamento della ```accuracy``` e della ```loss``` all'aumentare delle epoche di addestramento.\n",
        "\n"
      ]
    },
    {
      "cell_type": "code",
      "metadata": {
        "id": "xme_FxaV7RiQ",
        "colab_type": "code",
        "colab": {
          "base_uri": "https://localhost:8080/",
          "height": 297
        },
        "outputId": "afd88283-d988-40c3-9d01-79bcd34738c5"
      },
      "source": [
        "# Grafico che mette in relazione l'andamento dell'accuracy e della loss\n",
        "# all'aumentare delle epoche di addestramento.\n",
        "plt.title('Training evolution')\n",
        "plt.xlabel('Epoch')\n",
        "\n",
        "color_blue = 'tab:blue'\n",
        "plt.plot(history.history['accuracy'], color=color_blue)\n",
        "plt.ylabel('Accuracy', color=color_blue)\n",
        "\n",
        "plt.twinx()\n",
        "\n",
        "color_orange = 'tab:orange'\n",
        "plt.plot(history.history['loss'], color=color_orange)\n",
        "plt.ylabel('Loss', color=color_orange)\n",
        "\n",
        "plt.tight_layout()\n",
        "plt.show()"
      ],
      "execution_count": 431,
      "outputs": [
        {
          "output_type": "display_data",
          "data": {
            "image/png": "[encoded data removed]",
            "text/plain": [
              "<Figure size 432x288 with 2 Axes>"
            ]
          },
          "metadata": {
            "tags": [],
            "needs_background": "light"
          }
        }
      ]
    },
    {
      "cell_type": "markdown",
      "metadata": {
        "id": "oDjxPU4_gsEO",
        "colab_type": "text"
      },
      "source": [
        "####Valutazione della rete neurale"
      ]
    },
    {
      "cell_type": "markdown",
      "metadata": {
        "id": "e3PEBqp5IKX5",
        "colab_type": "text"
      },
      "source": [
        "Valutiamo l'efficacia del modello tramite un dataset di valutazione."
      ]
    },
    {
      "cell_type": "code",
      "metadata": {
        "id": "k9RKzcU5gwx_",
        "colab_type": "code",
        "colab": {
          "base_uri": "https://localhost:8080/",
          "height": 85
        },
        "outputId": "8e028662-b91b-4732-c0dd-a923ba05521c"
      },
      "source": [
        "# Valutazione della rete neurale\n",
        "val_loss, val_acc = model_rn.evaluate(val_dataset)\n",
        "print(\"\\nTest accuracy: {:.4f} ({:.2%})\\nTest loss: {:.4f}\".format(val_acc, val_acc, val_loss))"
      ],
      "execution_count": 432,
      "outputs": [
        {
          "output_type": "stream",
          "text": [
            "1125/1125 [==============================] - 1s 989us/step - loss: 0.4378 - accuracy: 0.7911\n",
            "\n",
            "Test accuracy: 0.7911 (79.11%)\n",
            "Test loss: 0.4378\n"
          ],
          "name": "stdout"
        }
      ]
    },
    {
      "cell_type": "markdown",
      "metadata": {
        "id": "Wlir-dMZh_uk",
        "colab_type": "text"
      },
      "source": [
        "####Predizione tramite la rete neurale"
      ]
    },
    {
      "cell_type": "markdown",
      "metadata": {
        "id": "SqpEsnZMIbz4",
        "colab_type": "text"
      },
      "source": [
        "Eseguiamo la predizione dei valori presi da un dataset di test e confrontiamoli con le rispettive etichette per valutarne l'efficienza."
      ]
    },
    {
      "cell_type": "code",
      "metadata": {
        "id": "_kt8ntCOiEQF",
        "colab_type": "code",
        "colab": {
          "base_uri": "https://localhost:8080/",
          "height": 51
        },
        "outputId": "d2020646-d048-4eb7-d571-aa20b88a3665"
      },
      "source": [
        "# Predizione dei dati tramite la rete neurale\n",
        "predictions = model_rn.predict(test_dataset)\n",
        "print(\"\\nAccuracy prediction: {:.4f}\".format(accuracy_score(test_y, tf.round(tf.sigmoid(predictions)).numpy())))"
      ],
      "execution_count": 433,
      "outputs": [
        {
          "output_type": "stream",
          "text": [
            "\n",
            "Accuracy prediction: 0.7978\n"
          ],
          "name": "stdout"
        }
      ]
    },
    {
      "cell_type": "markdown",
      "metadata": {
        "id": "UteuPc1JQ0zz",
        "colab_type": "text"
      },
      "source": [
        "Effettuiamo una breve stampa dei valori ottenuti tramite `predict` e degli effettivi valori di `test_y`. Qui vengono mostrato anche il valore di accuratezza della predizione:"
      ]
    },
    {
      "cell_type": "code",
      "metadata": {
        "id": "PbYJJEvQJZn3",
        "colab_type": "code",
        "colab": {
          "base_uri": "https://localhost:8080/",
          "height": 1000
        },
        "outputId": "1a2134d5-2818-4268-d207-41143a08f4b8"
      },
      "source": [
        "# Eseguiamo la stampa dei valori 'predictions' ottenuti tramite\n",
        "# la predizione con la rete neurale e delle etichette reali 'val_y'.\n",
        "print(\"Label\\t|  Prediction\\t|  Description\")\n",
        "print('-'*45)\n",
        "for test, pred in zip(test_y, tf.sigmoid(predictions).numpy()):\n",
        "  message = \"{}\\t|  {:.2%}\\t|  \".format(round(test), pred[0])\n",
        "  if not test==np.round(pred[0]):\n",
        "    message += \"PREDIZIONE ERRATA\"\n",
        "  print(message)"
      ],
      "execution_count": 434,
      "outputs": [
        {
          "output_type": "stream",
          "text": [
            "Label\t|  Prediction\t|  Description\n",
            "---------------------------------------------\n",
            "0\t|  20.82%\t|  \n",
            "0\t|  13.47%\t|  \n",
            "0\t|  23.98%\t|  \n",
            "0\t|  12.42%\t|  \n",
            "0\t|  16.57%\t|  \n",
            "1\t|  25.63%\t|  PREDIZIONE ERRATA\n",
            "1\t|  45.26%\t|  PREDIZIONE ERRATA\n",
            "0\t|  68.91%\t|  PREDIZIONE ERRATA\n",
            "0\t|  12.37%\t|  \n",
            "0\t|  5.65%\t|  \n",
            "0\t|  27.93%\t|  \n",
            "0\t|  25.96%\t|  \n",
            "1\t|  51.27%\t|  \n",
            "0\t|  4.73%\t|  \n",
            "1\t|  29.89%\t|  PREDIZIONE ERRATA\n",
            "0\t|  18.69%\t|  \n",
            "0\t|  5.74%\t|  \n",
            "1\t|  29.49%\t|  PREDIZIONE ERRATA\n",
            "0\t|  3.38%\t|  \n",
            "0\t|  0.41%\t|  \n",
            "0\t|  41.66%\t|  \n",
            "1\t|  27.67%\t|  PREDIZIONE ERRATA\n",
            "0\t|  24.27%\t|  \n",
            "0\t|  5.39%\t|  \n",
            "0\t|  83.27%\t|  PREDIZIONE ERRATA\n",
            "0\t|  56.73%\t|  PREDIZIONE ERRATA\n",
            "1\t|  19.78%\t|  PREDIZIONE ERRATA\n",
            "0\t|  15.91%\t|  \n",
            "0\t|  5.46%\t|  \n",
            "0\t|  14.54%\t|  \n",
            "0\t|  4.08%\t|  \n",
            "0\t|  26.89%\t|  \n",
            "0\t|  16.18%\t|  \n",
            "0\t|  13.20%\t|  \n",
            "0\t|  1.16%\t|  \n",
            "0\t|  40.63%\t|  \n",
            "0\t|  12.57%\t|  \n",
            "1\t|  14.98%\t|  PREDIZIONE ERRATA\n",
            "0\t|  51.97%\t|  PREDIZIONE ERRATA\n",
            "0\t|  41.94%\t|  \n",
            "1\t|  30.85%\t|  PREDIZIONE ERRATA\n",
            "0\t|  4.94%\t|  \n",
            "1\t|  44.17%\t|  PREDIZIONE ERRATA\n",
            "0\t|  78.12%\t|  PREDIZIONE ERRATA\n",
            "1\t|  29.89%\t|  PREDIZIONE ERRATA\n",
            "0\t|  29.89%\t|  \n",
            "0\t|  37.22%\t|  \n",
            "1\t|  84.79%\t|  \n",
            "0\t|  12.78%\t|  \n",
            "0\t|  12.63%\t|  \n",
            "0\t|  12.00%\t|  \n",
            "0\t|  19.79%\t|  \n",
            "1\t|  28.68%\t|  PREDIZIONE ERRATA\n",
            "1\t|  87.12%\t|  \n",
            "0\t|  12.26%\t|  \n",
            "1\t|  84.10%\t|  \n",
            "0\t|  16.68%\t|  \n",
            "0\t|  28.65%\t|  \n",
            "0\t|  4.85%\t|  \n",
            "0\t|  56.18%\t|  PREDIZIONE ERRATA\n",
            "1\t|  47.01%\t|  PREDIZIONE ERRATA\n",
            "0\t|  13.43%\t|  \n",
            "0\t|  29.89%\t|  \n",
            "0\t|  63.07%\t|  PREDIZIONE ERRATA\n",
            "0\t|  25.44%\t|  \n",
            "1\t|  42.29%\t|  PREDIZIONE ERRATA\n",
            "0\t|  26.76%\t|  \n",
            "1\t|  83.23%\t|  \n",
            "0\t|  6.47%\t|  \n",
            "0\t|  6.11%\t|  \n",
            "1\t|  41.29%\t|  PREDIZIONE ERRATA\n",
            "0\t|  15.53%\t|  \n",
            "1\t|  85.91%\t|  \n",
            "1\t|  59.02%\t|  \n",
            "0\t|  29.89%\t|  \n",
            "0\t|  27.71%\t|  \n",
            "0\t|  1.69%\t|  \n",
            "0\t|  13.58%\t|  \n",
            "0\t|  11.63%\t|  \n",
            "0\t|  47.83%\t|  \n",
            "0\t|  44.44%\t|  \n",
            "0\t|  16.09%\t|  \n",
            "1\t|  78.89%\t|  \n",
            "0\t|  1.98%\t|  \n",
            "0\t|  17.86%\t|  \n",
            "0\t|  28.36%\t|  \n",
            "0\t|  1.66%\t|  \n",
            "0\t|  15.75%\t|  \n",
            "1\t|  45.21%\t|  PREDIZIONE ERRATA\n",
            "1\t|  29.89%\t|  PREDIZIONE ERRATA\n",
            "0\t|  29.01%\t|  \n",
            "0\t|  34.87%\t|  \n",
            "0\t|  6.71%\t|  \n",
            "0\t|  27.48%\t|  \n",
            "0\t|  12.54%\t|  \n",
            "0\t|  11.21%\t|  \n",
            "0\t|  21.49%\t|  \n",
            "0\t|  43.07%\t|  \n",
            "1\t|  72.94%\t|  \n",
            "0\t|  27.19%\t|  \n",
            "1\t|  68.70%\t|  \n",
            "0\t|  9.15%\t|  \n",
            "0\t|  1.60%\t|  \n",
            "0\t|  18.33%\t|  \n",
            "0\t|  29.89%\t|  \n",
            "1\t|  76.83%\t|  \n",
            "0\t|  5.13%\t|  \n",
            "0\t|  0.54%\t|  \n",
            "1\t|  22.06%\t|  PREDIZIONE ERRATA\n",
            "0\t|  11.49%\t|  \n",
            "0\t|  13.58%\t|  \n",
            "0\t|  11.62%\t|  \n",
            "0\t|  40.30%\t|  \n",
            "1\t|  77.62%\t|  \n",
            "0\t|  29.89%\t|  \n",
            "0\t|  2.81%\t|  \n",
            "0\t|  14.11%\t|  \n",
            "0\t|  19.67%\t|  \n",
            "0\t|  1.56%\t|  \n",
            "0\t|  42.57%\t|  \n",
            "0\t|  23.91%\t|  \n",
            "0\t|  14.56%\t|  \n",
            "0\t|  2.44%\t|  \n",
            "0\t|  12.63%\t|  \n",
            "1\t|  66.03%\t|  \n",
            "0\t|  75.12%\t|  PREDIZIONE ERRATA\n",
            "0\t|  14.71%\t|  \n",
            "0\t|  16.51%\t|  \n",
            "1\t|  21.25%\t|  PREDIZIONE ERRATA\n",
            "0\t|  17.86%\t|  \n",
            "0\t|  2.23%\t|  \n",
            "0\t|  13.97%\t|  \n",
            "0\t|  22.54%\t|  \n",
            "0\t|  18.24%\t|  \n",
            "0\t|  67.45%\t|  PREDIZIONE ERRATA\n",
            "0\t|  24.61%\t|  \n",
            "0\t|  5.33%\t|  \n",
            "1\t|  28.45%\t|  PREDIZIONE ERRATA\n",
            "0\t|  21.77%\t|  \n",
            "0\t|  1.13%\t|  \n",
            "1\t|  51.18%\t|  \n",
            "0\t|  16.54%\t|  \n",
            "0\t|  29.89%\t|  \n",
            "1\t|  40.75%\t|  PREDIZIONE ERRATA\n",
            "1\t|  13.97%\t|  PREDIZIONE ERRATA\n",
            "0\t|  0.82%\t|  \n",
            "0\t|  59.83%\t|  PREDIZIONE ERRATA\n",
            "1\t|  52.90%\t|  \n",
            "0\t|  57.13%\t|  PREDIZIONE ERRATA\n",
            "0\t|  13.37%\t|  \n",
            "1\t|  45.88%\t|  PREDIZIONE ERRATA\n",
            "0\t|  20.70%\t|  \n",
            "0\t|  1.25%\t|  \n",
            "1\t|  62.25%\t|  \n",
            "0\t|  45.61%\t|  \n",
            "0\t|  81.02%\t|  PREDIZIONE ERRATA\n",
            "0\t|  29.89%\t|  \n",
            "1\t|  69.36%\t|  \n",
            "0\t|  1.64%\t|  \n",
            "1\t|  41.01%\t|  PREDIZIONE ERRATA\n",
            "0\t|  17.43%\t|  \n",
            "0\t|  66.00%\t|  PREDIZIONE ERRATA\n",
            "0\t|  21.82%\t|  \n",
            "0\t|  21.26%\t|  \n",
            "0\t|  14.25%\t|  \n",
            "0\t|  43.32%\t|  \n",
            "0\t|  1.66%\t|  \n",
            "1\t|  83.43%\t|  \n",
            "0\t|  76.88%\t|  PREDIZIONE ERRATA\n",
            "0\t|  13.10%\t|  \n",
            "0\t|  1.63%\t|  \n",
            "1\t|  3.59%\t|  PREDIZIONE ERRATA\n",
            "0\t|  29.89%\t|  \n",
            "1\t|  77.51%\t|  \n",
            "1\t|  78.65%\t|  \n",
            "0\t|  13.02%\t|  \n",
            "0\t|  28.23%\t|  \n",
            "0\t|  13.99%\t|  \n",
            "0\t|  20.70%\t|  \n",
            "1\t|  78.12%\t|  \n",
            "0\t|  20.30%\t|  \n",
            "1\t|  78.52%\t|  \n",
            "0\t|  10.89%\t|  \n",
            "0\t|  20.81%\t|  \n",
            "1\t|  29.53%\t|  PREDIZIONE ERRATA\n",
            "0\t|  26.25%\t|  \n",
            "1\t|  29.89%\t|  PREDIZIONE ERRATA\n",
            "1\t|  24.61%\t|  PREDIZIONE ERRATA\n",
            "0\t|  71.53%\t|  PREDIZIONE ERRATA\n",
            "1\t|  73.68%\t|  \n",
            "0\t|  32.78%\t|  \n",
            "0\t|  7.07%\t|  \n",
            "1\t|  40.76%\t|  PREDIZIONE ERRATA\n",
            "0\t|  6.38%\t|  \n",
            "0\t|  31.23%\t|  \n",
            "0\t|  20.00%\t|  \n",
            "0\t|  17.85%\t|  \n",
            "0\t|  9.81%\t|  \n",
            "0\t|  29.89%\t|  \n",
            "0\t|  17.14%\t|  \n",
            "0\t|  6.17%\t|  \n",
            "0\t|  1.47%\t|  \n",
            "0\t|  10.99%\t|  \n",
            "1\t|  10.78%\t|  PREDIZIONE ERRATA\n",
            "0\t|  17.57%\t|  \n",
            "1\t|  29.97%\t|  PREDIZIONE ERRATA\n",
            "0\t|  23.48%\t|  \n",
            "0\t|  3.39%\t|  \n",
            "0\t|  37.05%\t|  \n",
            "0\t|  27.53%\t|  \n",
            "0\t|  33.63%\t|  \n",
            "1\t|  61.99%\t|  \n",
            "0\t|  11.57%\t|  \n",
            "0\t|  13.03%\t|  \n",
            "0\t|  24.66%\t|  \n",
            "0\t|  28.57%\t|  \n",
            "0\t|  27.79%\t|  \n",
            "0\t|  20.22%\t|  \n",
            "1\t|  61.77%\t|  \n",
            "1\t|  39.65%\t|  PREDIZIONE ERRATA\n",
            "1\t|  52.17%\t|  \n",
            "1\t|  75.39%\t|  \n",
            "1\t|  69.37%\t|  \n",
            "0\t|  20.37%\t|  \n",
            "1\t|  80.38%\t|  \n",
            "1\t|  24.81%\t|  PREDIZIONE ERRATA\n",
            "0\t|  32.99%\t|  \n",
            "0\t|  38.54%\t|  \n",
            "1\t|  79.02%\t|  \n",
            "0\t|  15.02%\t|  \n",
            "0\t|  17.22%\t|  \n",
            "0\t|  2.05%\t|  \n",
            "0\t|  20.76%\t|  \n",
            "0\t|  29.89%\t|  \n",
            "0\t|  21.60%\t|  \n",
            "0\t|  29.89%\t|  \n",
            "1\t|  16.58%\t|  PREDIZIONE ERRATA\n",
            "0\t|  24.89%\t|  \n",
            "0\t|  47.60%\t|  \n",
            "1\t|  32.63%\t|  PREDIZIONE ERRATA\n",
            "0\t|  30.10%\t|  \n",
            "0\t|  3.67%\t|  \n",
            "0\t|  25.13%\t|  \n",
            "0\t|  80.85%\t|  PREDIZIONE ERRATA\n",
            "0\t|  20.20%\t|  \n",
            "0\t|  22.03%\t|  \n",
            "0\t|  11.72%\t|  \n",
            "1\t|  24.62%\t|  PREDIZIONE ERRATA\n",
            "0\t|  35.34%\t|  \n",
            "0\t|  4.65%\t|  \n",
            "0\t|  21.04%\t|  \n",
            "0\t|  28.62%\t|  \n",
            "0\t|  16.78%\t|  \n",
            "0\t|  6.24%\t|  \n",
            "1\t|  44.67%\t|  PREDIZIONE ERRATA\n",
            "0\t|  38.03%\t|  \n",
            "0\t|  21.59%\t|  \n",
            "1\t|  29.89%\t|  PREDIZIONE ERRATA\n",
            "0\t|  35.92%\t|  \n",
            "0\t|  32.46%\t|  \n",
            "1\t|  39.59%\t|  PREDIZIONE ERRATA\n",
            "0\t|  11.84%\t|  \n",
            "0\t|  13.45%\t|  \n",
            "0\t|  12.58%\t|  \n",
            "0\t|  29.89%\t|  \n",
            "0\t|  10.29%\t|  \n",
            "0\t|  53.28%\t|  PREDIZIONE ERRATA\n",
            "0\t|  1.18%\t|  \n",
            "0\t|  29.89%\t|  \n",
            "0\t|  8.07%\t|  \n",
            "0\t|  28.19%\t|  \n",
            "0\t|  10.79%\t|  \n",
            "0\t|  2.34%\t|  \n",
            "0\t|  14.32%\t|  \n",
            "0\t|  12.39%\t|  \n",
            "0\t|  17.69%\t|  \n",
            "1\t|  29.37%\t|  PREDIZIONE ERRATA\n",
            "1\t|  29.89%\t|  PREDIZIONE ERRATA\n",
            "0\t|  2.06%\t|  \n",
            "0\t|  14.53%\t|  \n",
            "0\t|  19.60%\t|  \n",
            "1\t|  29.89%\t|  PREDIZIONE ERRATA\n",
            "1\t|  52.77%\t|  \n",
            "0\t|  13.66%\t|  \n",
            "0\t|  17.99%\t|  \n",
            "0\t|  83.14%\t|  PREDIZIONE ERRATA\n",
            "0\t|  11.21%\t|  \n",
            "0\t|  3.20%\t|  \n",
            "0\t|  29.89%\t|  \n",
            "0\t|  15.47%\t|  \n",
            "1\t|  19.68%\t|  PREDIZIONE ERRATA\n",
            "0\t|  19.47%\t|  \n",
            "0\t|  0.79%\t|  \n",
            "1\t|  39.12%\t|  PREDIZIONE ERRATA\n",
            "0\t|  5.11%\t|  \n",
            "0\t|  23.31%\t|  \n",
            "1\t|  64.64%\t|  \n",
            "0\t|  52.13%\t|  PREDIZIONE ERRATA\n",
            "0\t|  25.89%\t|  \n",
            "0\t|  27.33%\t|  \n",
            "1\t|  19.57%\t|  PREDIZIONE ERRATA\n",
            "0\t|  2.39%\t|  \n",
            "1\t|  32.55%\t|  PREDIZIONE ERRATA\n",
            "1\t|  20.08%\t|  PREDIZIONE ERRATA\n",
            "0\t|  12.67%\t|  \n",
            "0\t|  1.42%\t|  \n",
            "1\t|  88.00%\t|  \n",
            "0\t|  26.07%\t|  \n",
            "1\t|  57.57%\t|  \n",
            "1\t|  76.49%\t|  \n",
            "0\t|  13.36%\t|  \n",
            "0\t|  17.88%\t|  \n",
            "0\t|  29.89%\t|  \n",
            "0\t|  0.73%\t|  \n",
            "1\t|  71.50%\t|  \n",
            "0\t|  24.39%\t|  \n",
            "0\t|  15.51%\t|  \n",
            "0\t|  29.21%\t|  \n",
            "1\t|  87.02%\t|  \n",
            "0\t|  45.21%\t|  \n",
            "0\t|  20.23%\t|  \n",
            "0\t|  29.89%\t|  \n",
            "1\t|  87.14%\t|  \n",
            "0\t|  12.45%\t|  \n",
            "0\t|  5.24%\t|  \n",
            "0\t|  5.14%\t|  \n",
            "0\t|  14.43%\t|  \n",
            "0\t|  23.64%\t|  \n",
            "0\t|  3.91%\t|  \n",
            "0\t|  31.60%\t|  \n",
            "1\t|  29.89%\t|  PREDIZIONE ERRATA\n",
            "1\t|  83.56%\t|  \n",
            "1\t|  20.79%\t|  PREDIZIONE ERRATA\n",
            "1\t|  24.16%\t|  PREDIZIONE ERRATA\n",
            "0\t|  29.53%\t|  \n",
            "1\t|  76.79%\t|  \n",
            "0\t|  0.61%\t|  \n",
            "0\t|  29.89%\t|  \n",
            "0\t|  39.31%\t|  \n",
            "0\t|  17.47%\t|  \n",
            "0\t|  11.83%\t|  \n",
            "0\t|  17.60%\t|  \n",
            "0\t|  29.89%\t|  \n",
            "0\t|  11.93%\t|  \n",
            "0\t|  73.19%\t|  PREDIZIONE ERRATA\n",
            "0\t|  60.40%\t|  PREDIZIONE ERRATA\n",
            "0\t|  29.89%\t|  \n",
            "0\t|  0.60%\t|  \n",
            "0\t|  13.84%\t|  \n",
            "0\t|  19.82%\t|  \n",
            "0\t|  29.89%\t|  \n",
            "0\t|  25.33%\t|  \n",
            "0\t|  24.06%\t|  \n",
            "0\t|  38.17%\t|  \n",
            "0\t|  0.71%\t|  \n",
            "0\t|  2.76%\t|  \n",
            "0\t|  60.05%\t|  PREDIZIONE ERRATA\n",
            "0\t|  24.01%\t|  \n",
            "1\t|  80.64%\t|  \n",
            "0\t|  28.30%\t|  \n",
            "0\t|  2.52%\t|  \n",
            "0\t|  10.31%\t|  \n",
            "1\t|  24.26%\t|  PREDIZIONE ERRATA\n",
            "0\t|  14.41%\t|  \n",
            "0\t|  29.89%\t|  \n",
            "0\t|  26.48%\t|  \n",
            "0\t|  43.35%\t|  \n",
            "0\t|  19.19%\t|  \n",
            "1\t|  83.57%\t|  \n",
            "0\t|  35.17%\t|  \n",
            "0\t|  25.18%\t|  \n",
            "0\t|  62.21%\t|  PREDIZIONE ERRATA\n",
            "0\t|  17.80%\t|  \n",
            "0\t|  43.28%\t|  \n",
            "0\t|  61.69%\t|  PREDIZIONE ERRATA\n",
            "0\t|  27.20%\t|  \n",
            "1\t|  69.91%\t|  \n",
            "0\t|  23.20%\t|  \n",
            "0\t|  18.99%\t|  \n",
            "0\t|  22.91%\t|  \n",
            "1\t|  74.62%\t|  \n",
            "1\t|  80.82%\t|  \n",
            "0\t|  49.41%\t|  \n",
            "0\t|  19.72%\t|  \n",
            "0\t|  27.56%\t|  \n",
            "1\t|  53.13%\t|  \n",
            "1\t|  82.09%\t|  \n",
            "0\t|  18.21%\t|  \n",
            "1\t|  46.24%\t|  PREDIZIONE ERRATA\n",
            "0\t|  1.56%\t|  \n",
            "0\t|  5.27%\t|  \n",
            "0\t|  78.91%\t|  PREDIZIONE ERRATA\n",
            "0\t|  24.28%\t|  \n",
            "0\t|  16.57%\t|  \n",
            "0\t|  29.89%\t|  \n",
            "0\t|  16.92%\t|  \n",
            "0\t|  12.79%\t|  \n",
            "0\t|  42.86%\t|  \n",
            "0\t|  52.35%\t|  PREDIZIONE ERRATA\n",
            "0\t|  29.17%\t|  \n",
            "0\t|  40.85%\t|  \n",
            "0\t|  27.33%\t|  \n",
            "0\t|  12.99%\t|  \n",
            "0\t|  2.23%\t|  \n",
            "0\t|  12.28%\t|  \n",
            "0\t|  40.42%\t|  \n",
            "1\t|  18.56%\t|  PREDIZIONE ERRATA\n",
            "0\t|  7.94%\t|  \n",
            "1\t|  60.70%\t|  \n",
            "0\t|  26.10%\t|  \n",
            "1\t|  32.01%\t|  PREDIZIONE ERRATA\n",
            "0\t|  6.95%\t|  \n",
            "0\t|  12.08%\t|  \n",
            "0\t|  12.56%\t|  \n",
            "1\t|  42.78%\t|  PREDIZIONE ERRATA\n",
            "1\t|  39.35%\t|  PREDIZIONE ERRATA\n",
            "0\t|  25.00%\t|  \n",
            "0\t|  41.03%\t|  \n",
            "0\t|  22.92%\t|  \n",
            "1\t|  80.89%\t|  \n",
            "0\t|  29.89%\t|  \n",
            "0\t|  78.92%\t|  PREDIZIONE ERRATA\n",
            "0\t|  11.31%\t|  \n",
            "0\t|  24.03%\t|  \n",
            "0\t|  22.02%\t|  \n",
            "0\t|  50.43%\t|  PREDIZIONE ERRATA\n",
            "0\t|  23.90%\t|  \n",
            "1\t|  20.75%\t|  PREDIZIONE ERRATA\n",
            "0\t|  2.29%\t|  \n",
            "1\t|  22.55%\t|  PREDIZIONE ERRATA\n",
            "0\t|  8.22%\t|  \n",
            "0\t|  29.89%\t|  \n",
            "0\t|  29.65%\t|  \n",
            "1\t|  18.87%\t|  PREDIZIONE ERRATA\n",
            "1\t|  21.87%\t|  PREDIZIONE ERRATA\n",
            "0\t|  73.48%\t|  PREDIZIONE ERRATA\n",
            "0\t|  28.98%\t|  \n",
            "0\t|  1.60%\t|  \n",
            "1\t|  43.15%\t|  PREDIZIONE ERRATA\n",
            "0\t|  13.62%\t|  \n",
            "1\t|  50.21%\t|  \n",
            "0\t|  19.90%\t|  \n",
            "0\t|  13.80%\t|  \n",
            "0\t|  3.13%\t|  \n",
            "0\t|  1.42%\t|  \n",
            "1\t|  31.34%\t|  PREDIZIONE ERRATA\n",
            "0\t|  18.48%\t|  \n",
            "0\t|  17.11%\t|  \n",
            "1\t|  29.89%\t|  PREDIZIONE ERRATA\n",
            "0\t|  29.89%\t|  \n"
          ],
          "name": "stdout"
        }
      ]
    },
    {
      "cell_type": "markdown",
      "metadata": {
        "id": "-5-4uHN6IYyq",
        "colab_type": "text"
      },
      "source": [
        "####Confusion Matrix"
      ]
    },
    {
      "cell_type": "markdown",
      "metadata": {
        "id": "gsSqhHQwROBv",
        "colab_type": "text"
      },
      "source": [
        "Tramite i valori ottenuti è possibile generare una `confuion_matrix`:"
      ]
    },
    {
      "cell_type": "code",
      "metadata": {
        "id": "jRtDjXaAIb6U",
        "colab_type": "code",
        "colab": {
          "base_uri": "https://localhost:8080/",
          "height": 51
        },
        "outputId": "8eb3bf43-31d0-4822-df07-b8af556393c7"
      },
      "source": [
        "# Eseguiamo la stampa di una Confusion Matrix dei valori trovati tramite 'predict'\n",
        "print(confusion_matrix(test_y, tf.round(tf.sigmoid(predictions)).numpy(), normalize=None))"
      ],
      "execution_count": 435,
      "outputs": [
        {
          "output_type": "stream",
          "text": [
            "[[309  29]\n",
            " [ 62  50]]\n"
          ],
          "name": "stdout"
        }
      ]
    }
  ]
}