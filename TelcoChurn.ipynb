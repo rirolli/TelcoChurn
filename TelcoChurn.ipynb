{
  "nbformat": 4,
  "nbformat_minor": 0,
  "metadata": {
    "colab": {
      "name": "TelcoChurn.ipynb",
      "provenance": [],
      "collapsed_sections": []
    },
    "kernelspec": {
      "name": "python3",
      "display_name": "Python 3"
    },
    "accelerator": "TPU"
  },
  "cells": [
    {
      "cell_type": "markdown",
      "metadata": {
        "id": "bve2y8T97yg6",
        "colab_type": "text"
      },
      "source": [
        "#Telco Churn"
      ]
    },
    {
      "cell_type": "markdown",
      "metadata": {
        "id": "A2VoYewQ72O8",
        "colab_type": "text"
      },
      "source": [
        "##Librerie"
      ]
    },
    {
      "cell_type": "code",
      "metadata": {
        "id": "dVR3okzg7npj",
        "colab_type": "code",
        "colab": {
          "base_uri": "https://localhost:8080/",
          "height": 102
        },
        "outputId": "b914b437-71fc-49f3-b200-231462ab8636"
      },
      "source": [
        "import tensorflow as tf\n",
        "import pandas as pd\n",
        "import numpy as np\n",
        "import matplotlib.pyplot as plt\n",
        "import sklearn as sl\n",
        "import seaborn as sns\n",
        "\n",
        "from tensorflow import keras\n",
        "from sklearn.model_selection import train_test_split\n",
        "from sklearn.metrics import confusion_matrix, accuracy_score\n",
        "\n",
        "print(tf.__version__)\n",
        "print(pd.__version__)\n",
        "print(np.__version__)\n",
        "print(sl.__version__)\n",
        "print(sns.__version__)"
      ],
      "execution_count": null,
      "outputs": [
        {
          "output_type": "stream",
          "text": [
            "2.2.0\n",
            "1.0.4\n",
            "1.18.5\n",
            "0.22.2.post1\n",
            "0.10.1\n"
          ],
          "name": "stdout"
        }
      ]
    },
    {
      "cell_type": "code",
      "metadata": {
        "id": "G5CEeT6epnsr",
        "colab_type": "code",
        "colab": {}
      },
      "source": [
        "from sklearn.tree import DecisionTreeRegressor, DecisionTreeClassifier\n",
        "from sklearn.linear_model import LinearRegression, Ridge\n",
        "from sklearn.neighbors import KNeighborsClassifier\n",
        "from sklearn.preprocessing import PolynomialFeatures"
      ],
      "execution_count": null,
      "outputs": []
    },
    {
      "cell_type": "markdown",
      "metadata": {
        "id": "3zKkbpk-88eq",
        "colab_type": "text"
      },
      "source": [
        "## Dataset"
      ]
    },
    {
      "cell_type": "code",
      "metadata": {
        "id": "J6MvCisI8-nS",
        "colab_type": "code",
        "colab": {}
      },
      "source": [
        "url = 'https://raw.githubusercontent.com/rirolli/TelcoChurn/master/Telco-Customer-Churn-train.csv'\n",
        "\n",
        "telco_data = pd.read_csv(url, na_values=np.nan)"
      ],
      "execution_count": null,
      "outputs": []
    },
    {
      "cell_type": "code",
      "metadata": {
        "id": "mcFhDQoP9SBK",
        "colab_type": "code",
        "colab": {
          "base_uri": "https://localhost:8080/",
          "height": 549
        },
        "outputId": "a1fec12c-3135-4200-958b-b2ce94448680"
      },
      "source": [
        "# Stampa delle prime 10 righe del dataset\n",
        "telco_data.head(10)"
      ],
      "execution_count": null,
      "outputs": [
        {
          "output_type": "execute_result",
          "data": {
            "text/html": [
              "<div>\n",
              "<style scoped>\n",
              "    .dataframe tbody tr th:only-of-type {\n",
              "        vertical-align: middle;\n",
              "    }\n",
              "\n",
              "    .dataframe tbody tr th {\n",
              "        vertical-align: top;\n",
              "    }\n",
              "\n",
              "    .dataframe thead th {\n",
              "        text-align: right;\n",
              "    }\n",
              "</style>\n",
              "<table border=\"1\" class=\"dataframe\">\n",
              "  <thead>\n",
              "    <tr style=\"text-align: right;\">\n",
              "      <th></th>\n",
              "      <th>Churn</th>\n",
              "      <th>customerID</th>\n",
              "      <th>gender</th>\n",
              "      <th>SeniorCitizen</th>\n",
              "      <th>Partner</th>\n",
              "      <th>Dependents</th>\n",
              "      <th>tenure</th>\n",
              "      <th>PhoneService</th>\n",
              "      <th>MultipleLines</th>\n",
              "      <th>InternetService</th>\n",
              "      <th>OnlineSecurity</th>\n",
              "      <th>OnlineBackup</th>\n",
              "      <th>DeviceProtection</th>\n",
              "      <th>TechSupport</th>\n",
              "      <th>StreamingTV</th>\n",
              "      <th>StreamingMovies</th>\n",
              "      <th>Contract</th>\n",
              "      <th>PaperlessBilling</th>\n",
              "      <th>PaymentMethod</th>\n",
              "      <th>MonthlyCharges</th>\n",
              "      <th>TotalCharges</th>\n",
              "    </tr>\n",
              "  </thead>\n",
              "  <tbody>\n",
              "    <tr>\n",
              "      <th>0</th>\n",
              "      <td>No</td>\n",
              "      <td>4223-BKEOR</td>\n",
              "      <td>Female</td>\n",
              "      <td>0</td>\n",
              "      <td>No</td>\n",
              "      <td>Yes</td>\n",
              "      <td>21</td>\n",
              "      <td>Yes</td>\n",
              "      <td>No</td>\n",
              "      <td>DSL</td>\n",
              "      <td>Yes</td>\n",
              "      <td>No</td>\n",
              "      <td>Yes</td>\n",
              "      <td>No</td>\n",
              "      <td>No</td>\n",
              "      <td>Yes</td>\n",
              "      <td>One year</td>\n",
              "      <td>No</td>\n",
              "      <td>Mailed check</td>\n",
              "      <td>64.85</td>\n",
              "      <td>1336.8</td>\n",
              "    </tr>\n",
              "    <tr>\n",
              "      <th>1</th>\n",
              "      <td>No</td>\n",
              "      <td>6035-RIIOM</td>\n",
              "      <td>Female</td>\n",
              "      <td>0</td>\n",
              "      <td>No</td>\n",
              "      <td>No</td>\n",
              "      <td>54</td>\n",
              "      <td>Yes</td>\n",
              "      <td>Yes</td>\n",
              "      <td>Fiber optic</td>\n",
              "      <td>No</td>\n",
              "      <td>Yes</td>\n",
              "      <td>No</td>\n",
              "      <td>No</td>\n",
              "      <td>Yes</td>\n",
              "      <td>Yes</td>\n",
              "      <td>Two year</td>\n",
              "      <td>Yes</td>\n",
              "      <td>Bank transfer (automatic)</td>\n",
              "      <td>97.20</td>\n",
              "      <td>5129.45</td>\n",
              "    </tr>\n",
              "    <tr>\n",
              "      <th>2</th>\n",
              "      <td>Yes</td>\n",
              "      <td>3797-VTIDR</td>\n",
              "      <td>Male</td>\n",
              "      <td>0</td>\n",
              "      <td>Yes</td>\n",
              "      <td>No</td>\n",
              "      <td>1</td>\n",
              "      <td>No</td>\n",
              "      <td>No phone service</td>\n",
              "      <td>DSL</td>\n",
              "      <td>No</td>\n",
              "      <td>No</td>\n",
              "      <td>No</td>\n",
              "      <td>No</td>\n",
              "      <td>No</td>\n",
              "      <td>No</td>\n",
              "      <td>Month-to-month</td>\n",
              "      <td>Yes</td>\n",
              "      <td>Electronic check</td>\n",
              "      <td>23.45</td>\n",
              "      <td>23.45</td>\n",
              "    </tr>\n",
              "    <tr>\n",
              "      <th>3</th>\n",
              "      <td>Yes</td>\n",
              "      <td>2568-BRGYX</td>\n",
              "      <td>Male</td>\n",
              "      <td>0</td>\n",
              "      <td>No</td>\n",
              "      <td>No</td>\n",
              "      <td>4</td>\n",
              "      <td>Yes</td>\n",
              "      <td>No</td>\n",
              "      <td>Fiber optic</td>\n",
              "      <td>No</td>\n",
              "      <td>No</td>\n",
              "      <td>No</td>\n",
              "      <td>No</td>\n",
              "      <td>No</td>\n",
              "      <td>No</td>\n",
              "      <td>Month-to-month</td>\n",
              "      <td>Yes</td>\n",
              "      <td>Electronic check</td>\n",
              "      <td>70.20</td>\n",
              "      <td>237.95</td>\n",
              "    </tr>\n",
              "    <tr>\n",
              "      <th>4</th>\n",
              "      <td>No</td>\n",
              "      <td>2775-SEFEE</td>\n",
              "      <td>Male</td>\n",
              "      <td>0</td>\n",
              "      <td>No</td>\n",
              "      <td>Yes</td>\n",
              "      <td>0</td>\n",
              "      <td>Yes</td>\n",
              "      <td>Yes</td>\n",
              "      <td>DSL</td>\n",
              "      <td>Yes</td>\n",
              "      <td>Yes</td>\n",
              "      <td>No</td>\n",
              "      <td>Yes</td>\n",
              "      <td>No</td>\n",
              "      <td>No</td>\n",
              "      <td>Two year</td>\n",
              "      <td>Yes</td>\n",
              "      <td>Bank transfer (automatic)</td>\n",
              "      <td>61.90</td>\n",
              "      <td></td>\n",
              "    </tr>\n",
              "    <tr>\n",
              "      <th>5</th>\n",
              "      <td>No</td>\n",
              "      <td>4291-SHSBH</td>\n",
              "      <td>Male</td>\n",
              "      <td>0</td>\n",
              "      <td>No</td>\n",
              "      <td>No</td>\n",
              "      <td>7</td>\n",
              "      <td>Yes</td>\n",
              "      <td>No</td>\n",
              "      <td>Fiber optic</td>\n",
              "      <td>No</td>\n",
              "      <td>No</td>\n",
              "      <td>No</td>\n",
              "      <td>No</td>\n",
              "      <td>No</td>\n",
              "      <td>No</td>\n",
              "      <td>Month-to-month</td>\n",
              "      <td>Yes</td>\n",
              "      <td>Electronic check</td>\n",
              "      <td>69.55</td>\n",
              "      <td>521.35</td>\n",
              "    </tr>\n",
              "    <tr>\n",
              "      <th>6</th>\n",
              "      <td>No</td>\n",
              "      <td>4635-EJYPD</td>\n",
              "      <td>Male</td>\n",
              "      <td>0</td>\n",
              "      <td>Yes</td>\n",
              "      <td>Yes</td>\n",
              "      <td>32</td>\n",
              "      <td>Yes</td>\n",
              "      <td>No</td>\n",
              "      <td>No</td>\n",
              "      <td>No internet service</td>\n",
              "      <td>No internet service</td>\n",
              "      <td>No internet service</td>\n",
              "      <td>No internet service</td>\n",
              "      <td>No internet service</td>\n",
              "      <td>No internet service</td>\n",
              "      <td>Two year</td>\n",
              "      <td>No</td>\n",
              "      <td>Mailed check</td>\n",
              "      <td>18.95</td>\n",
              "      <td>613.95</td>\n",
              "    </tr>\n",
              "    <tr>\n",
              "      <th>7</th>\n",
              "      <td>No</td>\n",
              "      <td>2607-DHDAK</td>\n",
              "      <td>Male</td>\n",
              "      <td>0</td>\n",
              "      <td>Yes</td>\n",
              "      <td>Yes</td>\n",
              "      <td>72</td>\n",
              "      <td>Yes</td>\n",
              "      <td>No</td>\n",
              "      <td>No</td>\n",
              "      <td>No internet service</td>\n",
              "      <td>No internet service</td>\n",
              "      <td>No internet service</td>\n",
              "      <td>No internet service</td>\n",
              "      <td>No internet service</td>\n",
              "      <td>No internet service</td>\n",
              "      <td>Two year</td>\n",
              "      <td>Yes</td>\n",
              "      <td>Credit card (automatic)</td>\n",
              "      <td>19.80</td>\n",
              "      <td>1414.65</td>\n",
              "    </tr>\n",
              "    <tr>\n",
              "      <th>8</th>\n",
              "      <td>Yes</td>\n",
              "      <td>5204-QZXPU</td>\n",
              "      <td>Male</td>\n",
              "      <td>0</td>\n",
              "      <td>No</td>\n",
              "      <td>No</td>\n",
              "      <td>19</td>\n",
              "      <td>No</td>\n",
              "      <td>No phone service</td>\n",
              "      <td>DSL</td>\n",
              "      <td>No</td>\n",
              "      <td>No</td>\n",
              "      <td>Yes</td>\n",
              "      <td>No</td>\n",
              "      <td>Yes</td>\n",
              "      <td>No</td>\n",
              "      <td>Month-to-month</td>\n",
              "      <td>Yes</td>\n",
              "      <td>Electronic check</td>\n",
              "      <td>39.65</td>\n",
              "      <td>733.35</td>\n",
              "    </tr>\n",
              "    <tr>\n",
              "      <th>9</th>\n",
              "      <td>No</td>\n",
              "      <td>0221-NAUXK</td>\n",
              "      <td>Male</td>\n",
              "      <td>0</td>\n",
              "      <td>No</td>\n",
              "      <td>Yes</td>\n",
              "      <td>10</td>\n",
              "      <td>Yes</td>\n",
              "      <td>No</td>\n",
              "      <td>No</td>\n",
              "      <td>No internet service</td>\n",
              "      <td>No internet service</td>\n",
              "      <td>No internet service</td>\n",
              "      <td>No internet service</td>\n",
              "      <td>No internet service</td>\n",
              "      <td>No internet service</td>\n",
              "      <td>One year</td>\n",
              "      <td>Yes</td>\n",
              "      <td>Bank transfer (automatic)</td>\n",
              "      <td>19.95</td>\n",
              "      <td>219.5</td>\n",
              "    </tr>\n",
              "  </tbody>\n",
              "</table>\n",
              "</div>"
            ],
            "text/plain": [
              "  Churn  customerID  ... MonthlyCharges  TotalCharges\n",
              "0    No  4223-BKEOR  ...          64.85        1336.8\n",
              "1    No  6035-RIIOM  ...          97.20       5129.45\n",
              "2   Yes  3797-VTIDR  ...          23.45         23.45\n",
              "3   Yes  2568-BRGYX  ...          70.20        237.95\n",
              "4    No  2775-SEFEE  ...          61.90              \n",
              "5    No  4291-SHSBH  ...          69.55        521.35\n",
              "6    No  4635-EJYPD  ...          18.95        613.95\n",
              "7    No  2607-DHDAK  ...          19.80       1414.65\n",
              "8   Yes  5204-QZXPU  ...          39.65        733.35\n",
              "9    No  0221-NAUXK  ...          19.95         219.5\n",
              "\n",
              "[10 rows x 21 columns]"
            ]
          },
          "metadata": {
            "tags": []
          },
          "execution_count": 579
        }
      ]
    },
    {
      "cell_type": "markdown",
      "metadata": {
        "id": "MDBpS12l99Qd",
        "colab_type": "text"
      },
      "source": [
        "###Analisi del dataset"
      ]
    },
    {
      "cell_type": "markdown",
      "metadata": {
        "id": "R9FLclQwNgfR",
        "colab_type": "text"
      },
      "source": [
        "La prima cosa da fare è scoprire qual è la forma del dataset:"
      ]
    },
    {
      "cell_type": "code",
      "metadata": {
        "id": "nj2YzlJU-Aha",
        "colab_type": "code",
        "colab": {
          "base_uri": "https://localhost:8080/",
          "height": 68
        },
        "outputId": "51d261cd-1c65-4deb-cd2a-f96ece36ff61"
      },
      "source": [
        "# Numero di righe e colonne nel dataset\n",
        "print(f\"Shape: {telco_data.shape}\")\n",
        "print(f\"Numero di righe (utenti telefonici): {telco_data.shape[0]}\")\n",
        "print(f\"Numero di colonne: {telco_data.shape[1]}\")"
      ],
      "execution_count": null,
      "outputs": [
        {
          "output_type": "stream",
          "text": [
            "Shape: (5634, 21)\n",
            "Numero di righe (utenti telefonici): 5634\n",
            "Numero di colonne: 21\n"
          ],
          "name": "stdout"
        }
      ]
    },
    {
      "cell_type": "markdown",
      "metadata": {
        "id": "cFN8N-9ZM5nB",
        "colab_type": "text"
      },
      "source": [
        "Vediamo di che tipo sono ogni colonna del dataset:"
      ]
    },
    {
      "cell_type": "code",
      "metadata": {
        "id": "u3oXbHjxNEEb",
        "colab_type": "code",
        "colab": {
          "base_uri": "https://localhost:8080/",
          "height": 391
        },
        "outputId": "c5cd3308-f42f-40b5-f9cf-bebba700a013"
      },
      "source": [
        "telco_data.dtypes"
      ],
      "execution_count": null,
      "outputs": [
        {
          "output_type": "execute_result",
          "data": {
            "text/plain": [
              "Churn                object\n",
              "customerID           object\n",
              "gender               object\n",
              "SeniorCitizen         int64\n",
              "Partner              object\n",
              "Dependents           object\n",
              "tenure                int64\n",
              "PhoneService         object\n",
              "MultipleLines        object\n",
              "InternetService      object\n",
              "OnlineSecurity       object\n",
              "OnlineBackup         object\n",
              "DeviceProtection     object\n",
              "TechSupport          object\n",
              "StreamingTV          object\n",
              "StreamingMovies      object\n",
              "Contract             object\n",
              "PaperlessBilling     object\n",
              "PaymentMethod        object\n",
              "MonthlyCharges      float64\n",
              "TotalCharges         object\n",
              "dtype: object"
            ]
          },
          "metadata": {
            "tags": []
          },
          "execution_count": 581
        }
      ]
    },
    {
      "cell_type": "markdown",
      "metadata": {
        "id": "wK1e7IjVNFS3",
        "colab_type": "text"
      },
      "source": [
        "Poi si procede con il vedere se ci sono delle righe con valori non validi (NaN):"
      ]
    },
    {
      "cell_type": "code",
      "metadata": {
        "id": "844G7DQaNL-d",
        "colab_type": "code",
        "colab": {}
      },
      "source": [
        "# Sostituisco ad ogni stringa vuola il valore 'NaN'\n",
        "telco_data.replace(\"\", np.nan, inplace=True)\n",
        "telco_data.replace(\" \", np.nan, inplace=True)\n",
        "telco_data.replace(\"?\", np.nan, inplace=True)"
      ],
      "execution_count": null,
      "outputs": []
    },
    {
      "cell_type": "code",
      "metadata": {
        "id": "IP9pHkL-B7_z",
        "colab_type": "code",
        "colab": {
          "base_uri": "https://localhost:8080/",
          "height": 391
        },
        "outputId": "81a671ac-8f54-4747-978a-6d890cc39c11"
      },
      "source": [
        "# Controllo dei dati non validi (NaN) nel dataset\n",
        "telco_data.isna().sum()"
      ],
      "execution_count": null,
      "outputs": [
        {
          "output_type": "execute_result",
          "data": {
            "text/plain": [
              "Churn                0\n",
              "customerID           0\n",
              "gender               0\n",
              "SeniorCitizen        0\n",
              "Partner              0\n",
              "Dependents           0\n",
              "tenure               0\n",
              "PhoneService         0\n",
              "MultipleLines        0\n",
              "InternetService      0\n",
              "OnlineSecurity       0\n",
              "OnlineBackup         0\n",
              "DeviceProtection     0\n",
              "TechSupport          0\n",
              "StreamingTV          0\n",
              "StreamingMovies      0\n",
              "Contract             0\n",
              "PaperlessBilling     0\n",
              "PaymentMethod        0\n",
              "MonthlyCharges       0\n",
              "TotalCharges        10\n",
              "dtype: int64"
            ]
          },
          "metadata": {
            "tags": []
          },
          "execution_count": 583
        }
      ]
    },
    {
      "cell_type": "markdown",
      "metadata": {
        "id": "zBSSxXPxOhXF",
        "colab_type": "text"
      },
      "source": [
        "Ora vediamo un po' di statistiche e grafici del dataset."
      ]
    },
    {
      "cell_type": "code",
      "metadata": {
        "id": "qeBd_lFR_E3E",
        "colab_type": "code",
        "colab": {
          "base_uri": "https://localhost:8080/",
          "height": 297
        },
        "outputId": "24843b17-985b-4eb6-b779-36bb84dfee8e"
      },
      "source": [
        "# Statistiche\n",
        "telco_data.describe()"
      ],
      "execution_count": null,
      "outputs": [
        {
          "output_type": "execute_result",
          "data": {
            "text/html": [
              "<div>\n",
              "<style scoped>\n",
              "    .dataframe tbody tr th:only-of-type {\n",
              "        vertical-align: middle;\n",
              "    }\n",
              "\n",
              "    .dataframe tbody tr th {\n",
              "        vertical-align: top;\n",
              "    }\n",
              "\n",
              "    .dataframe thead th {\n",
              "        text-align: right;\n",
              "    }\n",
              "</style>\n",
              "<table border=\"1\" class=\"dataframe\">\n",
              "  <thead>\n",
              "    <tr style=\"text-align: right;\">\n",
              "      <th></th>\n",
              "      <th>SeniorCitizen</th>\n",
              "      <th>tenure</th>\n",
              "      <th>MonthlyCharges</th>\n",
              "    </tr>\n",
              "  </thead>\n",
              "  <tbody>\n",
              "    <tr>\n",
              "      <th>count</th>\n",
              "      <td>5634.000000</td>\n",
              "      <td>5634.000000</td>\n",
              "      <td>5634.000000</td>\n",
              "    </tr>\n",
              "    <tr>\n",
              "      <th>mean</th>\n",
              "      <td>0.160809</td>\n",
              "      <td>32.373092</td>\n",
              "      <td>64.864253</td>\n",
              "    </tr>\n",
              "    <tr>\n",
              "      <th>std</th>\n",
              "      <td>0.367388</td>\n",
              "      <td>24.424539</td>\n",
              "      <td>30.089324</td>\n",
              "    </tr>\n",
              "    <tr>\n",
              "      <th>min</th>\n",
              "      <td>0.000000</td>\n",
              "      <td>0.000000</td>\n",
              "      <td>18.250000</td>\n",
              "    </tr>\n",
              "    <tr>\n",
              "      <th>25%</th>\n",
              "      <td>0.000000</td>\n",
              "      <td>9.000000</td>\n",
              "      <td>35.750000</td>\n",
              "    </tr>\n",
              "    <tr>\n",
              "      <th>50%</th>\n",
              "      <td>0.000000</td>\n",
              "      <td>29.000000</td>\n",
              "      <td>70.525000</td>\n",
              "    </tr>\n",
              "    <tr>\n",
              "      <th>75%</th>\n",
              "      <td>0.000000</td>\n",
              "      <td>55.000000</td>\n",
              "      <td>89.937500</td>\n",
              "    </tr>\n",
              "    <tr>\n",
              "      <th>max</th>\n",
              "      <td>1.000000</td>\n",
              "      <td>72.000000</td>\n",
              "      <td>118.600000</td>\n",
              "    </tr>\n",
              "  </tbody>\n",
              "</table>\n",
              "</div>"
            ],
            "text/plain": [
              "       SeniorCitizen       tenure  MonthlyCharges\n",
              "count    5634.000000  5634.000000     5634.000000\n",
              "mean        0.160809    32.373092       64.864253\n",
              "std         0.367388    24.424539       30.089324\n",
              "min         0.000000     0.000000       18.250000\n",
              "25%         0.000000     9.000000       35.750000\n",
              "50%         0.000000    29.000000       70.525000\n",
              "75%         0.000000    55.000000       89.937500\n",
              "max         1.000000    72.000000      118.600000"
            ]
          },
          "metadata": {
            "tags": []
          },
          "execution_count": 584
        }
      ]
    },
    {
      "cell_type": "code",
      "metadata": {
        "id": "8r8zt1teBg9O",
        "colab_type": "code",
        "colab": {
          "base_uri": "https://localhost:8080/",
          "height": 68
        },
        "outputId": "2f2410d8-dd12-41f0-f621-eb372b0173a7"
      },
      "source": [
        "# Numero dei churn\n",
        "telco_data['Churn'].value_counts()"
      ],
      "execution_count": null,
      "outputs": [
        {
          "output_type": "execute_result",
          "data": {
            "text/plain": [
              "No     4138\n",
              "Yes    1496\n",
              "Name: Churn, dtype: int64"
            ]
          },
          "metadata": {
            "tags": []
          },
          "execution_count": 585
        }
      ]
    },
    {
      "cell_type": "code",
      "metadata": {
        "id": "lvnMlUoOFG8u",
        "colab_type": "code",
        "colab": {
          "base_uri": "https://localhost:8080/",
          "height": 296
        },
        "outputId": "9f0ec959-66f4-44e5-87ad-2aab8e986dca"
      },
      "source": [
        "# Diagramma che confronta le persone che hanno lasciato la compagnia telefonica\n",
        "sns.countplot(telco_data['Churn'])"
      ],
      "execution_count": null,
      "outputs": [
        {
          "output_type": "execute_result",
          "data": {
            "text/plain": [
              "<matplotlib.axes._subplots.AxesSubplot at 0x7fa90a2dccf8>"
            ]
          },
          "metadata": {
            "tags": []
          },
          "execution_count": 586
        },
        {
          "output_type": "display_data",
          "data": {
            "image/png": "[encoded data removed]",
            "text/plain": [
              "<Figure size 432x288 with 1 Axes>"
            ]
          },
          "metadata": {
            "tags": [],
            "needs_background": "light"
          }
        }
      ]
    },
    {
      "cell_type": "code",
      "metadata": {
        "id": "Y-NWQlglGEUk",
        "colab_type": "code",
        "colab": {
          "base_uri": "https://localhost:8080/",
          "height": 646
        },
        "outputId": "ba74d9eb-b756-4e2e-de78-5633f5430dbd"
      },
      "source": [
        "# Alcuni grafici che mettono in relazione le features\n",
        "# del dataset con le persone che hanno lasciato la compagnia\n",
        "\n",
        "cols = ['gender', 'SeniorCitizen', 'Partner', 'Dependents', 'Contract', 'PaymentMethod']\n",
        "\n",
        "n_rows = 3\n",
        "n_cols = 2\n",
        "\n",
        "fig, axs = plt.subplots(n_rows, n_cols, figsize=(n_cols*8, n_rows*4))\n",
        "i=0\n",
        "for r in range(n_rows):\n",
        "  for c in range(n_cols):\n",
        "    ax = axs[r][c]\n",
        "    sns.countplot(telco_data[cols[i]], hue=telco_data['Churn'], ax=ax)\n",
        "    ax.set_title(cols[i])\n",
        "    ax.legend(title='Churn', loc='upper right')\n",
        "    i+=1\n",
        "\n",
        "plt.tight_layout()"
      ],
      "execution_count": null,
      "outputs": [
        {
          "output_type": "display_data",
          "data": {
            "image/png": "[encoded data removed]",
            "text/plain": [
              "<Figure size 1152x864 with 6 Axes>"
            ]
          },
          "metadata": {
            "tags": [],
            "needs_background": "light"
          }
        }
      ]
    },
    {
      "cell_type": "code",
      "metadata": {
        "id": "QvGmJhzuHgsd",
        "colab_type": "code",
        "colab": {
          "base_uri": "https://localhost:8080/",
          "height": 1000
        },
        "outputId": "0a35584e-af78-48ad-b60c-f42801957732"
      },
      "source": [
        "for val in telco_data:\n",
        "  print(telco_data[val].value_counts())\n",
        "  print()"
      ],
      "execution_count": null,
      "outputs": [
        {
          "output_type": "stream",
          "text": [
            "No     4138\n",
            "Yes    1496\n",
            "Name: Churn, dtype: int64\n",
            "\n",
            "0141-YEAYS    1\n",
            "9584-EXCDZ    1\n",
            "4614-NUVZD    1\n",
            "3793-MMFUH    1\n",
            "3457-PQBYH    1\n",
            "             ..\n",
            "0979-PHULV    1\n",
            "8327-LZKAS    1\n",
            "0439-IFYUN    1\n",
            "2398-YPMUR    1\n",
            "2480-JZOSN    1\n",
            "Name: customerID, Length: 5634, dtype: int64\n",
            "\n",
            "Male      2887\n",
            "Female    2747\n",
            "Name: gender, dtype: int64\n",
            "\n",
            "0    4728\n",
            "1     906\n",
            "Name: SeniorCitizen, dtype: int64\n",
            "\n",
            "No     2904\n",
            "Yes    2730\n",
            "Name: Partner, dtype: int64\n",
            "\n",
            "No     3951\n",
            "Yes    1683\n",
            "Name: Dependents, dtype: int64\n",
            "\n",
            "1     476\n",
            "72    286\n",
            "2     174\n",
            "3     161\n",
            "4     147\n",
            "     ... \n",
            "44     46\n",
            "39     43\n",
            "36     43\n",
            "45     43\n",
            "0      10\n",
            "Name: tenure, Length: 73, dtype: int64\n",
            "\n",
            "Yes    5082\n",
            "No      552\n",
            "Name: PhoneService, dtype: int64\n",
            "\n",
            "No                  2685\n",
            "Yes                 2397\n",
            "No phone service     552\n",
            "Name: MultipleLines, dtype: int64\n",
            "\n",
            "Fiber optic    2481\n",
            "DSL            1939\n",
            "No             1214\n",
            "Name: InternetService, dtype: int64\n",
            "\n",
            "No                     2810\n",
            "Yes                    1610\n",
            "No internet service    1214\n",
            "Name: OnlineSecurity, dtype: int64\n",
            "\n",
            "No                     2448\n",
            "Yes                    1972\n",
            "No internet service    1214\n",
            "Name: OnlineBackup, dtype: int64\n",
            "\n",
            "No                     2489\n",
            "Yes                    1931\n",
            "No internet service    1214\n",
            "Name: DeviceProtection, dtype: int64\n",
            "\n",
            "No                     2791\n",
            "Yes                    1629\n",
            "No internet service    1214\n",
            "Name: TechSupport, dtype: int64\n",
            "\n",
            "No                     2239\n",
            "Yes                    2181\n",
            "No internet service    1214\n",
            "Name: StreamingTV, dtype: int64\n",
            "\n",
            "No                     2223\n",
            "Yes                    2197\n",
            "No internet service    1214\n",
            "Name: StreamingMovies, dtype: int64\n",
            "\n",
            "Month-to-month    3083\n",
            "Two year          1339\n",
            "One year          1212\n",
            "Name: Contract, dtype: int64\n",
            "\n",
            "Yes    3325\n",
            "No     2309\n",
            "Name: PaperlessBilling, dtype: int64\n",
            "\n",
            "Electronic check             1887\n",
            "Mailed check                 1282\n",
            "Bank transfer (automatic)    1238\n",
            "Credit card (automatic)      1227\n",
            "Name: PaymentMethod, dtype: int64\n",
            "\n",
            "20.05     49\n",
            "19.95     36\n",
            "19.70     35\n",
            "19.85     35\n",
            "19.80     34\n",
            "          ..\n",
            "45.50      1\n",
            "113.00     1\n",
            "29.25      1\n",
            "87.75      1\n",
            "72.15      1\n",
            "Name: MonthlyCharges, Length: 1495, dtype: int64\n",
            "\n",
            "20.2       10\n",
            "19.75       8\n",
            "19.9        6\n",
            "20.05       6\n",
            "19.55       6\n",
            "           ..\n",
            "4108.15     1\n",
            "159.45      1\n",
            "3509.4      1\n",
            "1261.35     1\n",
            "2748.7      1\n",
            "Name: TotalCharges, Length: 5299, dtype: int64\n",
            "\n"
          ],
          "name": "stdout"
        }
      ]
    },
    {
      "cell_type": "markdown",
      "metadata": {
        "id": "UL7zZsUraz4n",
        "colab_type": "text"
      },
      "source": [
        "###Operazione di preprocessing del dataset"
      ]
    },
    {
      "cell_type": "markdown",
      "metadata": {
        "id": "thY11ybWbwk-",
        "colab_type": "text"
      },
      "source": [
        "La prima operazione da fare è quella di eliminare tutte le righe che contengono almeno un valore NaN:"
      ]
    },
    {
      "cell_type": "code",
      "metadata": {
        "id": "aqISF4aBOCxR",
        "colab_type": "code",
        "colab": {}
      },
      "source": [
        "# Procediamo con l'eliminazione dei dati non validi (NaN)\n",
        "telco_data.dropna(inplace=True)"
      ],
      "execution_count": null,
      "outputs": []
    },
    {
      "cell_type": "code",
      "metadata": {
        "id": "p8q_oUc_ORcV",
        "colab_type": "code",
        "colab": {
          "base_uri": "https://localhost:8080/",
          "height": 391
        },
        "outputId": "2fc8b11b-df7d-4a75-a7fb-795917eb2434"
      },
      "source": [
        "# Controlliamo che non vi siano più nessun valore nullo\n",
        "telco_data.isna().sum()"
      ],
      "execution_count": null,
      "outputs": [
        {
          "output_type": "execute_result",
          "data": {
            "text/plain": [
              "Churn               0\n",
              "customerID          0\n",
              "gender              0\n",
              "SeniorCitizen       0\n",
              "Partner             0\n",
              "Dependents          0\n",
              "tenure              0\n",
              "PhoneService        0\n",
              "MultipleLines       0\n",
              "InternetService     0\n",
              "OnlineSecurity      0\n",
              "OnlineBackup        0\n",
              "DeviceProtection    0\n",
              "TechSupport         0\n",
              "StreamingTV         0\n",
              "StreamingMovies     0\n",
              "Contract            0\n",
              "PaperlessBilling    0\n",
              "PaymentMethod       0\n",
              "MonthlyCharges      0\n",
              "TotalCharges        0\n",
              "dtype: int64"
            ]
          },
          "metadata": {
            "tags": []
          },
          "execution_count": 590
        }
      ]
    },
    {
      "cell_type": "code",
      "metadata": {
        "id": "I45M6_EoaaDh",
        "colab_type": "code",
        "colab": {
          "base_uri": "https://localhost:8080/",
          "height": 68
        },
        "outputId": "2df7337e-3026-4c50-818c-b3f6549279c7"
      },
      "source": [
        "# stampa della nuova shape dopo l'eliminazione delle righe non valide\n",
        "print(f\"Shape: {telco_data.shape}\")\n",
        "print(f\"Numero di righe (utenti telefonici): {telco_data.shape[0]}\")\n",
        "print(f\"Numero di colonne: {telco_data.shape[1]}\")"
      ],
      "execution_count": null,
      "outputs": [
        {
          "output_type": "stream",
          "text": [
            "Shape: (5624, 21)\n",
            "Numero di righe (utenti telefonici): 5624\n",
            "Numero di colonne: 21\n"
          ],
          "name": "stdout"
        }
      ]
    },
    {
      "cell_type": "markdown",
      "metadata": {
        "id": "bd2mi6oza-XR",
        "colab_type": "text"
      },
      "source": [
        "Successivamente si procede con l'operazione di codifica del dataset."
      ]
    },
    {
      "cell_type": "code",
      "metadata": {
        "id": "gJHK0MuRcj1f",
        "colab_type": "code",
        "colab": {}
      },
      "source": [
        "# codifica di tutti i dati del dataset\n",
        "for elem in telco_data:\n",
        "  telco_data[elem] = (pd.Categorical(telco_data[elem])).codes"
      ],
      "execution_count": null,
      "outputs": []
    },
    {
      "cell_type": "code",
      "metadata": {
        "id": "bawQ6y1xcyGJ",
        "colab_type": "code",
        "colab": {
          "base_uri": "https://localhost:8080/",
          "height": 379
        },
        "outputId": "1de98219-c957-4c94-e797-07bbe775570c"
      },
      "source": [
        "# Stampa delle prime 10 righe del dataset codificato\n",
        "telco_data.head(10)"
      ],
      "execution_count": null,
      "outputs": [
        {
          "output_type": "execute_result",
          "data": {
            "text/html": [
              "<div>\n",
              "<style scoped>\n",
              "    .dataframe tbody tr th:only-of-type {\n",
              "        vertical-align: middle;\n",
              "    }\n",
              "\n",
              "    .dataframe tbody tr th {\n",
              "        vertical-align: top;\n",
              "    }\n",
              "\n",
              "    .dataframe thead th {\n",
              "        text-align: right;\n",
              "    }\n",
              "</style>\n",
              "<table border=\"1\" class=\"dataframe\">\n",
              "  <thead>\n",
              "    <tr style=\"text-align: right;\">\n",
              "      <th></th>\n",
              "      <th>Churn</th>\n",
              "      <th>customerID</th>\n",
              "      <th>gender</th>\n",
              "      <th>SeniorCitizen</th>\n",
              "      <th>Partner</th>\n",
              "      <th>Dependents</th>\n",
              "      <th>tenure</th>\n",
              "      <th>PhoneService</th>\n",
              "      <th>MultipleLines</th>\n",
              "      <th>InternetService</th>\n",
              "      <th>OnlineSecurity</th>\n",
              "      <th>OnlineBackup</th>\n",
              "      <th>DeviceProtection</th>\n",
              "      <th>TechSupport</th>\n",
              "      <th>StreamingTV</th>\n",
              "      <th>StreamingMovies</th>\n",
              "      <th>Contract</th>\n",
              "      <th>PaperlessBilling</th>\n",
              "      <th>PaymentMethod</th>\n",
              "      <th>MonthlyCharges</th>\n",
              "      <th>TotalCharges</th>\n",
              "    </tr>\n",
              "  </thead>\n",
              "  <tbody>\n",
              "    <tr>\n",
              "      <th>0</th>\n",
              "      <td>0</td>\n",
              "      <td>2364</td>\n",
              "      <td>0</td>\n",
              "      <td>0</td>\n",
              "      <td>0</td>\n",
              "      <td>1</td>\n",
              "      <td>20</td>\n",
              "      <td>1</td>\n",
              "      <td>0</td>\n",
              "      <td>0</td>\n",
              "      <td>2</td>\n",
              "      <td>0</td>\n",
              "      <td>2</td>\n",
              "      <td>0</td>\n",
              "      <td>0</td>\n",
              "      <td>2</td>\n",
              "      <td>1</td>\n",
              "      <td>0</td>\n",
              "      <td>3</td>\n",
              "      <td>585</td>\n",
              "      <td>491</td>\n",
              "    </tr>\n",
              "    <tr>\n",
              "      <th>1</th>\n",
              "      <td>0</td>\n",
              "      <td>3448</td>\n",
              "      <td>0</td>\n",
              "      <td>0</td>\n",
              "      <td>0</td>\n",
              "      <td>0</td>\n",
              "      <td>53</td>\n",
              "      <td>1</td>\n",
              "      <td>2</td>\n",
              "      <td>1</td>\n",
              "      <td>0</td>\n",
              "      <td>2</td>\n",
              "      <td>0</td>\n",
              "      <td>0</td>\n",
              "      <td>2</td>\n",
              "      <td>2</td>\n",
              "      <td>2</td>\n",
              "      <td>1</td>\n",
              "      <td>0</td>\n",
              "      <td>1169</td>\n",
              "      <td>3510</td>\n",
              "    </tr>\n",
              "    <tr>\n",
              "      <th>2</th>\n",
              "      <td>1</td>\n",
              "      <td>2143</td>\n",
              "      <td>1</td>\n",
              "      <td>0</td>\n",
              "      <td>1</td>\n",
              "      <td>0</td>\n",
              "      <td>0</td>\n",
              "      <td>0</td>\n",
              "      <td>1</td>\n",
              "      <td>0</td>\n",
              "      <td>0</td>\n",
              "      <td>0</td>\n",
              "      <td>0</td>\n",
              "      <td>0</td>\n",
              "      <td>0</td>\n",
              "      <td>0</td>\n",
              "      <td>0</td>\n",
              "      <td>1</td>\n",
              "      <td>2</td>\n",
              "      <td>59</td>\n",
              "      <td>1565</td>\n",
              "    </tr>\n",
              "    <tr>\n",
              "      <th>3</th>\n",
              "      <td>1</td>\n",
              "      <td>1424</td>\n",
              "      <td>1</td>\n",
              "      <td>0</td>\n",
              "      <td>0</td>\n",
              "      <td>0</td>\n",
              "      <td>3</td>\n",
              "      <td>1</td>\n",
              "      <td>0</td>\n",
              "      <td>1</td>\n",
              "      <td>0</td>\n",
              "      <td>0</td>\n",
              "      <td>0</td>\n",
              "      <td>0</td>\n",
              "      <td>0</td>\n",
              "      <td>0</td>\n",
              "      <td>0</td>\n",
              "      <td>1</td>\n",
              "      <td>2</td>\n",
              "      <td>673</td>\n",
              "      <td>1626</td>\n",
              "    </tr>\n",
              "    <tr>\n",
              "      <th>5</th>\n",
              "      <td>0</td>\n",
              "      <td>2394</td>\n",
              "      <td>1</td>\n",
              "      <td>0</td>\n",
              "      <td>0</td>\n",
              "      <td>0</td>\n",
              "      <td>6</td>\n",
              "      <td>1</td>\n",
              "      <td>0</td>\n",
              "      <td>1</td>\n",
              "      <td>0</td>\n",
              "      <td>0</td>\n",
              "      <td>0</td>\n",
              "      <td>0</td>\n",
              "      <td>0</td>\n",
              "      <td>0</td>\n",
              "      <td>0</td>\n",
              "      <td>1</td>\n",
              "      <td>2</td>\n",
              "      <td>660</td>\n",
              "      <td>3548</td>\n",
              "    </tr>\n",
              "    <tr>\n",
              "      <th>6</th>\n",
              "      <td>0</td>\n",
              "      <td>2593</td>\n",
              "      <td>1</td>\n",
              "      <td>0</td>\n",
              "      <td>1</td>\n",
              "      <td>1</td>\n",
              "      <td>31</td>\n",
              "      <td>1</td>\n",
              "      <td>0</td>\n",
              "      <td>2</td>\n",
              "      <td>1</td>\n",
              "      <td>1</td>\n",
              "      <td>1</td>\n",
              "      <td>1</td>\n",
              "      <td>1</td>\n",
              "      <td>1</td>\n",
              "      <td>2</td>\n",
              "      <td>0</td>\n",
              "      <td>3</td>\n",
              "      <td>7</td>\n",
              "      <td>4047</td>\n",
              "    </tr>\n",
              "    <tr>\n",
              "      <th>7</th>\n",
              "      <td>0</td>\n",
              "      <td>1446</td>\n",
              "      <td>1</td>\n",
              "      <td>0</td>\n",
              "      <td>1</td>\n",
              "      <td>1</td>\n",
              "      <td>71</td>\n",
              "      <td>1</td>\n",
              "      <td>0</td>\n",
              "      <td>2</td>\n",
              "      <td>1</td>\n",
              "      <td>1</td>\n",
              "      <td>1</td>\n",
              "      <td>1</td>\n",
              "      <td>1</td>\n",
              "      <td>1</td>\n",
              "      <td>2</td>\n",
              "      <td>1</td>\n",
              "      <td>1</td>\n",
              "      <td>24</td>\n",
              "      <td>613</td>\n",
              "    </tr>\n",
              "    <tr>\n",
              "      <th>8</th>\n",
              "      <td>1</td>\n",
              "      <td>2953</td>\n",
              "      <td>1</td>\n",
              "      <td>0</td>\n",
              "      <td>0</td>\n",
              "      <td>0</td>\n",
              "      <td>18</td>\n",
              "      <td>0</td>\n",
              "      <td>1</td>\n",
              "      <td>0</td>\n",
              "      <td>0</td>\n",
              "      <td>0</td>\n",
              "      <td>2</td>\n",
              "      <td>0</td>\n",
              "      <td>2</td>\n",
              "      <td>0</td>\n",
              "      <td>0</td>\n",
              "      <td>1</td>\n",
              "      <td>2</td>\n",
              "      <td>217</td>\n",
              "      <td>4612</td>\n",
              "    </tr>\n",
              "    <tr>\n",
              "      <th>9</th>\n",
              "      <td>0</td>\n",
              "      <td>103</td>\n",
              "      <td>1</td>\n",
              "      <td>0</td>\n",
              "      <td>0</td>\n",
              "      <td>1</td>\n",
              "      <td>9</td>\n",
              "      <td>1</td>\n",
              "      <td>0</td>\n",
              "      <td>2</td>\n",
              "      <td>1</td>\n",
              "      <td>1</td>\n",
              "      <td>1</td>\n",
              "      <td>1</td>\n",
              "      <td>1</td>\n",
              "      <td>1</td>\n",
              "      <td>1</td>\n",
              "      <td>1</td>\n",
              "      <td>0</td>\n",
              "      <td>27</td>\n",
              "      <td>1457</td>\n",
              "    </tr>\n",
              "    <tr>\n",
              "      <th>10</th>\n",
              "      <td>1</td>\n",
              "      <td>1911</td>\n",
              "      <td>1</td>\n",
              "      <td>1</td>\n",
              "      <td>1</td>\n",
              "      <td>0</td>\n",
              "      <td>20</td>\n",
              "      <td>1</td>\n",
              "      <td>0</td>\n",
              "      <td>1</td>\n",
              "      <td>0</td>\n",
              "      <td>0</td>\n",
              "      <td>0</td>\n",
              "      <td>0</td>\n",
              "      <td>0</td>\n",
              "      <td>0</td>\n",
              "      <td>0</td>\n",
              "      <td>1</td>\n",
              "      <td>2</td>\n",
              "      <td>651</td>\n",
              "      <td>697</td>\n",
              "    </tr>\n",
              "  </tbody>\n",
              "</table>\n",
              "</div>"
            ],
            "text/plain": [
              "    Churn  customerID  gender  ...  PaymentMethod  MonthlyCharges  TotalCharges\n",
              "0       0        2364       0  ...              3             585           491\n",
              "1       0        3448       0  ...              0            1169          3510\n",
              "2       1        2143       1  ...              2              59          1565\n",
              "3       1        1424       1  ...              2             673          1626\n",
              "5       0        2394       1  ...              2             660          3548\n",
              "6       0        2593       1  ...              3               7          4047\n",
              "7       0        1446       1  ...              1              24           613\n",
              "8       1        2953       1  ...              2             217          4612\n",
              "9       0         103       1  ...              0              27          1457\n",
              "10      1        1911       1  ...              2             651           697\n",
              "\n",
              "[10 rows x 21 columns]"
            ]
          },
          "metadata": {
            "tags": []
          },
          "execution_count": 593
        }
      ]
    },
    {
      "cell_type": "markdown",
      "metadata": {
        "id": "d7iH9mxSeVLG",
        "colab_type": "text"
      },
      "source": [
        "###Ripartizione del dataset"
      ]
    },
    {
      "cell_type": "markdown",
      "metadata": {
        "id": "25VSOTojeZ7t",
        "colab_type": "text"
      },
      "source": [
        "Scegliamo le features che vogliamo usare per addestrare la rete neurale."
      ]
    },
    {
      "cell_type": "code",
      "metadata": {
        "id": "x2dq0_pWegUh",
        "colab_type": "code",
        "colab": {}
      },
      "source": [
        "# Elimino dal dataset, tramite la funzione frop(), tutte le colonne ritenute \"inutili\"\n",
        "# ai fini dell'addestramento del modello. Le colonne rimanenti sono:\n",
        "# 'SeniorCitizen', 'Partner', 'Dependents', 'tenure', 'Contract', \n",
        "# 'PaperlessBilling', 'PaymentMethod', 'TotalCharges'\n",
        "telco_data = telco_data.drop(['customerID', 'gender', 'tenure','PhoneService', 'MultipleLines', 'InternetService', 'OnlineSecurity', 'OnlineBackup', 'DeviceProtection', 'TechSupport', 'StreamingTV', 'StreamingMovies'], axis=1)"
      ],
      "execution_count": null,
      "outputs": []
    },
    {
      "cell_type": "markdown",
      "metadata": {
        "id": "oU2VK1ymfSWQ",
        "colab_type": "text"
      },
      "source": [
        "Eseguiamo lo split del dataset"
      ]
    },
    {
      "cell_type": "code",
      "metadata": {
        "id": "iVe8NtwHfVaR",
        "colab_type": "code",
        "colab": {}
      },
      "source": [
        "# Dividiamo il train set in due parti così da poter addestrare la rete:\n",
        "# y che contiene solo la colonna 'Churn' che consiste nella soluzione al problema\n",
        "# X che contiene tutte le altre colonne specificate in 'features'.\n",
        "y = telco_data.Churn\n",
        "X = telco_data\n",
        "\n",
        "# Il dataset viene nuovamente diviso in altre parti:\n",
        "# train_X e train_y che sono le parti usate per l'addestramento;\n",
        "# val_X e val_y che contengono le parti per la valutazione della rete;\n",
        "# test_X e test_y per effettuare le predizioni e assicurarsi il corretto\n",
        "# funzionamento. \n",
        "train_X, val_X, train_y, val_y = train_test_split(X, y, test_size=.2)\n",
        "train_X, test_X, train_y, test_y = train_test_split(train_X, train_y, test_size=.1)\n",
        "\n",
        "# I dati vengono poi memorizzati dentro un Dataset di Tensorflow per sfruttarli\n",
        "# per l'addestramento. Questa stessa operazione viene poi fatta anche per il\n",
        "# test set e per l'evaluetion set.\n",
        "train_dataset = (tf.data.Dataset.from_tensor_slices((train_X.values, train_y.values))).shuffle(len(train_X)).batch(1)\n",
        "val_dataset = (tf.data.Dataset.from_tensor_slices((val_X.values, val_y.values))).shuffle(len(val_X)).batch(1)\n",
        "test_dataset = (tf.data.Dataset.from_tensor_slices(test_X.values)).batch(1)"
      ],
      "execution_count": null,
      "outputs": []
    },
    {
      "cell_type": "code",
      "metadata": {
        "id": "8lmd_0tP9v-k",
        "colab_type": "code",
        "colab": {
          "base_uri": "https://localhost:8080/",
          "height": 34
        },
        "outputId": "fd45db5b-e6d5-43dd-ca68-f60e711765dd"
      },
      "source": [
        "print(val_X.shape)"
      ],
      "execution_count": null,
      "outputs": [
        {
          "output_type": "stream",
          "text": [
            "(1125, 9)\n"
          ],
          "name": "stdout"
        }
      ]
    },
    {
      "cell_type": "markdown",
      "metadata": {
        "id": "Zpe_Gz9PgOnz",
        "colab_type": "text"
      },
      "source": [
        "##Il modello"
      ]
    },
    {
      "cell_type": "markdown",
      "metadata": {
        "id": "Twkm7N5VgaBw",
        "colab_type": "text"
      },
      "source": [
        "Definiamo il modello da utilizzare:"
      ]
    },
    {
      "cell_type": "markdown",
      "metadata": {
        "id": "YTTsPSoZBxjy",
        "colab_type": "text"
      },
      "source": [
        "###Linear Regression"
      ]
    },
    {
      "cell_type": "code",
      "metadata": {
        "id": "xzaL0vJMpbN3",
        "colab_type": "code",
        "colab": {
          "base_uri": "https://localhost:8080/",
          "height": 68
        },
        "outputId": "e1d521b8-e4fb-4648-cb56-d50abcfa4cb4"
      },
      "source": [
        "model_lr = LinearRegression()\n",
        "\n",
        "model_lr.fit(train_X, train_y)\n",
        "score_lr = model_lr.score(train_X, train_y)\n",
        "\n",
        "predict_lr = model_lr.predict(val_X)\n",
        "acc_lr = accuracy_score(val_y, predict_lr.round())\n",
        "\n",
        "print(f\"Training accuracy LinearRegression:\\t{score_lr:.4f}\\nValuation accuracy LinearRegression:\\t{acc_lr:.4f}\")\n",
        "\n",
        "pred_lr = model_lr.predict(test_X)\n",
        "accPred_lr = accuracy_score(test_y, pred_lr.round())\n",
        "print(f\"Test accuracy LinearRegression:\\t\\t{accPred_lr:.4f}\")"
      ],
      "execution_count": null,
      "outputs": [
        {
          "output_type": "stream",
          "text": [
            "Training accuracy LinearRegression:\t1.0000\n",
            "Valuation accuracy LinearRegression:\t1.0000\n",
            "Test accuracy LinearRegression:\t\t1.0000\n"
          ],
          "name": "stdout"
        }
      ]
    },
    {
      "cell_type": "code",
      "metadata": {
        "id": "qfuxs7lpJDx_",
        "colab_type": "code",
        "colab": {
          "base_uri": "https://localhost:8080/",
          "height": 51
        },
        "outputId": "0313c5d1-0d6e-48cb-b0eb-22b8ffc766c2"
      },
      "source": [
        "print(confusion_matrix(test_y, pred_lr.round(), normalize=None))"
      ],
      "execution_count": null,
      "outputs": [
        {
          "output_type": "stream",
          "text": [
            "[[317   0]\n",
            " [  0 133]]\n"
          ],
          "name": "stdout"
        }
      ]
    },
    {
      "cell_type": "markdown",
      "metadata": {
        "id": "lbzbbP5cBtUk",
        "colab_type": "text"
      },
      "source": [
        "###Decision Tree Regression"
      ]
    },
    {
      "cell_type": "code",
      "metadata": {
        "id": "QR4qj9V9kuwv",
        "colab_type": "code",
        "colab": {
          "base_uri": "https://localhost:8080/",
          "height": 68
        },
        "outputId": "6132903e-8285-46da-fd90-eed8f7a778a2"
      },
      "source": [
        "model_dr = DecisionTreeRegressor(random_state=1)\n",
        "\n",
        "model_dr.fit(train_X, train_y)\n",
        "score_dr = model_dr.score(train_X, train_y)\n",
        "\n",
        "predict_dr = model_dr.predict(val_X)\n",
        "acc_dr = accuracy_score(val_y, predict_dr.round())\n",
        "\n",
        "print(f\"Training accuracy DecisionTreeRegression:\\t{score_dr:.4f}\\nValuation accuracy DecisionTreeRegression:\\t{acc_dr:.4f}\")\n",
        "\n",
        "pred_dr = model_dr.predict(test_X)\n",
        "accPred_dr = accuracy_score(test_y, pred_dr.round())\n",
        "print(f\"Test accuracy DecisionTreeRegression:\\t\\t{accPred_dr:.4f}\")"
      ],
      "execution_count": null,
      "outputs": [
        {
          "output_type": "stream",
          "text": [
            "Training accuracy DecisionTreeRegression:\t1.0000\n",
            "Valuation accuracy DecisionTreeRegression:\t1.0000\n",
            "Test accuracy DecisionTreeRegression:\t\t1.0000\n"
          ],
          "name": "stdout"
        }
      ]
    },
    {
      "cell_type": "code",
      "metadata": {
        "id": "4OEPk9drJAvK",
        "colab_type": "code",
        "colab": {
          "base_uri": "https://localhost:8080/",
          "height": 51
        },
        "outputId": "f016820d-ae97-409f-d7b5-a2c646b595b6"
      },
      "source": [
        "print(confusion_matrix(test_y, pred_dr.round(), normalize=None))"
      ],
      "execution_count": null,
      "outputs": [
        {
          "output_type": "stream",
          "text": [
            "[[317   0]\n",
            " [  0 133]]\n"
          ],
          "name": "stdout"
        }
      ]
    },
    {
      "cell_type": "markdown",
      "metadata": {
        "id": "amGwg4yQBzyP",
        "colab_type": "text"
      },
      "source": [
        "###Ridge"
      ]
    },
    {
      "cell_type": "code",
      "metadata": {
        "id": "L2vWOcP-se30",
        "colab_type": "code",
        "colab": {
          "base_uri": "https://localhost:8080/",
          "height": 68
        },
        "outputId": "951b7c1f-b396-4e80-976d-d397130964fa"
      },
      "source": [
        "model_rr = Ridge()\n",
        "\n",
        "model_rr.fit(train_X, train_y)\n",
        "score_rr = model_rr.score(train_X, train_y)\n",
        "\n",
        "predict_rr = model_rr.predict(val_X)\n",
        "acc_rr = accuracy_score(val_y, predict_rr.round())\n",
        "\n",
        "print(f\"Training accuracy Ridge:\\t{score_rr:.4f}\\nValidation accuracy Ridge:\\t{acc_rr:.4f}\")\n",
        "\n",
        "pred_rr = model_rr.predict(test_X)\n",
        "accPred_rr = accuracy_score(test_y, pred_rr.round())\n",
        "print(f\"Test accuracy Ridge:\\t\\t{accPred_rr:.4f}\")"
      ],
      "execution_count": null,
      "outputs": [
        {
          "output_type": "stream",
          "text": [
            "Training accuracy Ridge:\t1.0000\n",
            "Validation accuracy Ridge:\t1.0000\n",
            "Test accuracy Ridge:\t\t1.0000\n"
          ],
          "name": "stdout"
        }
      ]
    },
    {
      "cell_type": "code",
      "metadata": {
        "id": "BSwc9-8gI87E",
        "colab_type": "code",
        "colab": {
          "base_uri": "https://localhost:8080/",
          "height": 51
        },
        "outputId": "83690286-f263-4df4-9196-116cb1c8ccba"
      },
      "source": [
        "print(confusion_matrix(test_y, pred_rr.round(), normalize=None))"
      ],
      "execution_count": null,
      "outputs": [
        {
          "output_type": "stream",
          "text": [
            "[[317   0]\n",
            " [  0 133]]\n"
          ],
          "name": "stdout"
        }
      ]
    },
    {
      "cell_type": "markdown",
      "metadata": {
        "id": "Lz-8hwlUB21d",
        "colab_type": "text"
      },
      "source": [
        "###Decision Tree Classifier"
      ]
    },
    {
      "cell_type": "code",
      "metadata": {
        "id": "as3Uiuzzs8Ww",
        "colab_type": "code",
        "colab": {
          "base_uri": "https://localhost:8080/",
          "height": 68
        },
        "outputId": "c835a267-b570-474a-9d17-af64a260f396"
      },
      "source": [
        "model_dc = DecisionTreeClassifier()\n",
        "\n",
        "model_dc.fit(train_X, train_y)\n",
        "score_dc = model_dc.score(train_X, train_y)\n",
        "\n",
        "predict_dc = model_dc.predict(val_X)\n",
        "acc_dc = accuracy_score(val_y, predict_dc.round())\n",
        "\n",
        "print(f\"Training accuracy DecisionTreeClassifier:\\t{score_dc:.4f}\\nValidation accuracy DecisionTreeClassifier:\\t{acc_dc:.4f}\")\n",
        "\n",
        "pred_dc = model_dc.predict(test_X)\n",
        "accPred_dc = accuracy_score(test_y, pred_dc.round())\n",
        "print(f\"Test accuracy DecisionTreeClassifier:\\t\\t{accPred_dc:.4f}\")"
      ],
      "execution_count": null,
      "outputs": [
        {
          "output_type": "stream",
          "text": [
            "Training accuracy DecisionTreeClassifier:\t1.0000\n",
            "Validation accuracy DecisionTreeClassifier:\t1.0000\n",
            "Test accuracy DecisionTreeClassifier:\t\t1.0000\n"
          ],
          "name": "stdout"
        }
      ]
    },
    {
      "cell_type": "code",
      "metadata": {
        "id": "wOL9QSPtI60A",
        "colab_type": "code",
        "colab": {
          "base_uri": "https://localhost:8080/",
          "height": 51
        },
        "outputId": "dda1603c-41f4-43ea-a4e6-246fa2063031"
      },
      "source": [
        "print(confusion_matrix(test_y, pred_dc.round(), normalize=None))"
      ],
      "execution_count": null,
      "outputs": [
        {
          "output_type": "stream",
          "text": [
            "[[317   0]\n",
            " [  0 133]]\n"
          ],
          "name": "stdout"
        }
      ]
    },
    {
      "cell_type": "markdown",
      "metadata": {
        "id": "4B9LlCNXB9Di",
        "colab_type": "text"
      },
      "source": [
        "###K-Neighbors Classifier"
      ]
    },
    {
      "cell_type": "code",
      "metadata": {
        "id": "UR5PM0MctXt5",
        "colab_type": "code",
        "colab": {
          "base_uri": "https://localhost:8080/",
          "height": 68
        },
        "outputId": "f810e343-43c1-40a1-b7ef-78a41c522e1f"
      },
      "source": [
        "model_kc = KNeighborsClassifier()\n",
        "\n",
        "model_kc.fit(train_X, train_y)\n",
        "score_kc = model_kc.score(train_X, train_y)\n",
        "\n",
        "predict_kc = model_kc.predict(val_X)\n",
        "acc_kc = accuracy_score(val_y, predict_kc.round())\n",
        "\n",
        "print(f\"Training accuracy KNeighborsClassifier:\\t\\t{score_kc:.4f}\\nValidation accuracy KNeighborsClassifier:\\t{acc_kc:.4f}\")\n",
        "\n",
        "pred_kc = model_kc.predict(test_X)\n",
        "accPred_kc = accuracy_score(test_y, pred_kc.round())\n",
        "print(f\"Test accuracy KNeighborsClassifier:\\t\\t{accPred_kc:.4f}\")"
      ],
      "execution_count": null,
      "outputs": [
        {
          "output_type": "stream",
          "text": [
            "Training accuracy KNeighborsClassifier:\t\t0.8172\n",
            "Validation accuracy KNeighborsClassifier:\t0.7351\n",
            "Test accuracy KNeighborsClassifier:\t\t0.7156\n"
          ],
          "name": "stdout"
        }
      ]
    },
    {
      "cell_type": "code",
      "metadata": {
        "id": "Ci8mgxgMIurr",
        "colab_type": "code",
        "colab": {
          "base_uri": "https://localhost:8080/",
          "height": 51
        },
        "outputId": "69df3c8e-cd34-46bb-d01b-08eb8c6cab18"
      },
      "source": [
        "print(confusion_matrix(test_y, pred_kc.round(), normalize=None))"
      ],
      "execution_count": null,
      "outputs": [
        {
          "output_type": "stream",
          "text": [
            "[[278  39]\n",
            " [ 89  44]]\n"
          ],
          "name": "stdout"
        }
      ]
    },
    {
      "cell_type": "markdown",
      "metadata": {
        "id": "sSLjzrPiCDbk",
        "colab_type": "text"
      },
      "source": [
        "###Neural Network"
      ]
    },
    {
      "cell_type": "code",
      "metadata": {
        "id": "Zrd8CM34gR5J",
        "colab_type": "code",
        "colab": {}
      },
      "source": [
        "num_inputs = X.shape[1]"
      ],
      "execution_count": null,
      "outputs": []
    },
    {
      "cell_type": "code",
      "metadata": {
        "id": "6QDsJML8gUiJ",
        "colab_type": "code",
        "colab": {
          "base_uri": "https://localhost:8080/",
          "height": 255
        },
        "outputId": "4ed45897-9f68-4961-c23d-936e0a3383d2"
      },
      "source": [
        "model_rn = keras.Sequential([\n",
        "  tf.keras.layers.Dense(128, input_dim=num_inputs, activation='relu'),\n",
        "  tf.keras.layers.Dense(128, activation='relu'),\n",
        "  tf.keras.layers.Dense(1)\n",
        "])\n",
        "\n",
        "model_rn.summary()\n",
        "\n",
        "model_rn.compile(optimizer='adam',\n",
        "                 loss=tf.keras.losses.BinaryCrossentropy(from_logits=True),\n",
        "                 metrics=['accuracy'])"
      ],
      "execution_count": null,
      "outputs": [
        {
          "output_type": "stream",
          "text": [
            "Model: \"sequential_30\"\n",
            "_________________________________________________________________\n",
            "Layer (type)                 Output Shape              Param #   \n",
            "=================================================================\n",
            "dense_99 (Dense)             (None, 128)               1280      \n",
            "_________________________________________________________________\n",
            "dense_100 (Dense)            (None, 128)               16512     \n",
            "_________________________________________________________________\n",
            "dense_101 (Dense)            (None, 1)                 129       \n",
            "=================================================================\n",
            "Total params: 17,921\n",
            "Trainable params: 17,921\n",
            "Non-trainable params: 0\n",
            "_________________________________________________________________\n"
          ],
          "name": "stdout"
        }
      ]
    },
    {
      "cell_type": "markdown",
      "metadata": {
        "id": "mcuQdjiWghQH",
        "colab_type": "text"
      },
      "source": [
        "####Addestramento della rete neurale"
      ]
    },
    {
      "cell_type": "code",
      "metadata": {
        "id": "MlyT6EzrglUO",
        "colab_type": "code",
        "colab": {
          "base_uri": "https://localhost:8080/",
          "height": 714
        },
        "outputId": "84ef2f4b-0e1f-4b10-b150-cb0228a215d3"
      },
      "source": [
        "# Addestramento della rete neurale\n",
        "model_rn.fit(train_dataset, epochs=20)"
      ],
      "execution_count": null,
      "outputs": [
        {
          "output_type": "stream",
          "text": [
            "Epoch 1/20\n",
            "4049/4049 [==============================] - 7s 2ms/step - loss: 10.0755 - accuracy: 0.6402\n",
            "Epoch 2/20\n",
            "4049/4049 [==============================] - 7s 2ms/step - loss: 1.0945 - accuracy: 0.6999\n",
            "Epoch 3/20\n",
            "4049/4049 [==============================] - 7s 2ms/step - loss: 0.5744 - accuracy: 0.7382\n",
            "Epoch 4/20\n",
            "4049/4049 [==============================] - 7s 2ms/step - loss: 0.4689 - accuracy: 0.7753\n",
            "Epoch 5/20\n",
            "4049/4049 [==============================] - 7s 2ms/step - loss: 0.3275 - accuracy: 0.8760\n",
            "Epoch 6/20\n",
            "4049/4049 [==============================] - 7s 2ms/step - loss: 0.1938 - accuracy: 0.9306\n",
            "Epoch 7/20\n",
            "4049/4049 [==============================] - 6s 2ms/step - loss: 0.2210 - accuracy: 0.9271\n",
            "Epoch 8/20\n",
            "4049/4049 [==============================] - 6s 2ms/step - loss: 0.1567 - accuracy: 0.9491\n",
            "Epoch 9/20\n",
            "4049/4049 [==============================] - 7s 2ms/step - loss: 0.3897 - accuracy: 0.8456\n",
            "Epoch 10/20\n",
            "4049/4049 [==============================] - 7s 2ms/step - loss: 0.4622 - accuracy: 0.8083\n",
            "Epoch 11/20\n",
            "4049/4049 [==============================] - 6s 2ms/step - loss: 0.2452 - accuracy: 0.9042\n",
            "Epoch 12/20\n",
            "4049/4049 [==============================] - 6s 2ms/step - loss: 0.1217 - accuracy: 0.9610\n",
            "Epoch 13/20\n",
            "4049/4049 [==============================] - 6s 2ms/step - loss: 0.1473 - accuracy: 0.9620\n",
            "Epoch 14/20\n",
            "4049/4049 [==============================] - 7s 2ms/step - loss: 0.1856 - accuracy: 0.9368\n",
            "Epoch 15/20\n",
            "4049/4049 [==============================] - 6s 2ms/step - loss: 0.1445 - accuracy: 0.9612\n",
            "Epoch 16/20\n",
            "4049/4049 [==============================] - 7s 2ms/step - loss: 0.0966 - accuracy: 0.9718\n",
            "Epoch 17/20\n",
            "4049/4049 [==============================] - 7s 2ms/step - loss: 0.1535 - accuracy: 0.9580\n",
            "Epoch 18/20\n",
            "4049/4049 [==============================] - 7s 2ms/step - loss: 0.1079 - accuracy: 0.9755\n",
            "Epoch 19/20\n",
            "4049/4049 [==============================] - 6s 2ms/step - loss: 0.2631 - accuracy: 0.9081\n",
            "Epoch 20/20\n",
            "4049/4049 [==============================] - 7s 2ms/step - loss: 0.0185 - accuracy: 0.9965\n"
          ],
          "name": "stdout"
        },
        {
          "output_type": "execute_result",
          "data": {
            "text/plain": [
              "<tensorflow.python.keras.callbacks.History at 0x7fa90c961908>"
            ]
          },
          "metadata": {
            "tags": []
          },
          "execution_count": 609
        }
      ]
    },
    {
      "cell_type": "markdown",
      "metadata": {
        "id": "oDjxPU4_gsEO",
        "colab_type": "text"
      },
      "source": [
        "####Valutazione della rete neurale"
      ]
    },
    {
      "cell_type": "code",
      "metadata": {
        "id": "k9RKzcU5gwx_",
        "colab_type": "code",
        "colab": {
          "base_uri": "https://localhost:8080/",
          "height": 85
        },
        "outputId": "1b2e7b61-70ad-460a-f767-213e2b084ca8"
      },
      "source": [
        "# Valutazione della rete neurale\n",
        "val_loss, val_acc = model_rn.evaluate(val_dataset)\n",
        "print(\"\\nTest accuracy: {:.4f} ({:.2%})\\nTest loss: {:.4f}\".format(val_acc, val_acc, val_loss))"
      ],
      "execution_count": null,
      "outputs": [
        {
          "output_type": "stream",
          "text": [
            "1125/1125 [==============================] - 2s 1ms/step - loss: 6.9563e-04 - accuracy: 1.0000\n",
            "\n",
            "Test accuracy: 1.0000 (100.00%)\n",
            "Test loss: 0.0007\n"
          ],
          "name": "stdout"
        }
      ]
    },
    {
      "cell_type": "markdown",
      "metadata": {
        "id": "Wlir-dMZh_uk",
        "colab_type": "text"
      },
      "source": [
        "####Predizione tramite la rete neurale"
      ]
    },
    {
      "cell_type": "code",
      "metadata": {
        "id": "_kt8ntCOiEQF",
        "colab_type": "code",
        "colab": {
          "base_uri": "https://localhost:8080/",
          "height": 34
        },
        "outputId": "7058eadf-7f4f-4641-91a4-19a56ec040ce"
      },
      "source": [
        "# Predizione dei dati tramite la rete neurale\n",
        "predictions = model_rn.predict(test_dataset)\n",
        "print(\"Accuracy prediction: {:.4f}\".format(accuracy_score(test_y, tf.round(tf.sigmoid(predictions)).numpy())))"
      ],
      "execution_count": null,
      "outputs": [
        {
          "output_type": "stream",
          "text": [
            "Accuracy prediction: 1.0000\n"
          ],
          "name": "stdout"
        }
      ]
    },
    {
      "cell_type": "markdown",
      "metadata": {
        "id": "-5-4uHN6IYyq",
        "colab_type": "text"
      },
      "source": [
        "####Confusion Matrix"
      ]
    },
    {
      "cell_type": "code",
      "metadata": {
        "id": "jRtDjXaAIb6U",
        "colab_type": "code",
        "colab": {
          "base_uri": "https://localhost:8080/",
          "height": 51
        },
        "outputId": "7779aecd-a53b-4b72-aed6-bbeeb37a2b42"
      },
      "source": [
        "print(confusion_matrix(test_y, tf.round(tf.sigmoid(predictions)).numpy(), normalize=None))"
      ],
      "execution_count": null,
      "outputs": [
        {
          "output_type": "stream",
          "text": [
            "[[317   0]\n",
            " [  0 133]]\n"
          ],
          "name": "stdout"
        }
      ]
    }
  ]
}